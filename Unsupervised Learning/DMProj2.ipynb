{
 "cells": [
  {
   "cell_type": "code",
   "execution_count": 36,
   "metadata": {
    "collapsed": true
   },
   "outputs": [
    {
     "name": "stdout",
     "output_type": "stream",
     "text": [
      "<class 'pandas.core.frame.DataFrame'>\n",
      "RangeIndex: 400 entries, 0 to 399\n",
      "Data columns (total 5 columns):\n",
      "StoreCode          400 non-null int64\n",
      "AnnualSales        385 non-null float64\n",
      "Sales              385 non-null float64\n",
      "SFloorSize         400 non-null int64\n",
      "TotalInvestment    385 non-null float64\n",
      "dtypes: float64(3), int64(2)\n",
      "memory usage: 15.7 KB\n",
      "None\n",
      "15\n",
      "15\n",
      "15\n",
      "<class 'pandas.core.frame.DataFrame'>\n",
      "Int64Index: 385 entries, 0 to 399\n",
      "Data columns (total 5 columns):\n",
      "StoreCode          385 non-null int64\n",
      "AnnualSales        385 non-null float64\n",
      "Sales              385 non-null float64\n",
      "SFloorSize         385 non-null int64\n",
      "TotalInvestment    385 non-null float64\n",
      "dtypes: float64(3), int64(2)\n",
      "memory usage: 18.0 KB\n",
      "None\n"
     ]
    }
   ],
   "source": [
    "#\n",
    "# Import all packages\n",
    "#\n",
    "import pandas as pd\n",
    "import numpy as np\n",
    "import matplotlib.pyplot as plt\n",
    "import seaborn as sns\n",
    "import pydot\n",
    "\n",
    "## Models used in the assignment\n",
    "from sklearn.model_selection import GridSearchCV, train_test_split, cross_val_score, validation_curve\n",
    "from sklearn.preprocessing import StandardScaler\n",
    "from sklearn.metrics import classification_report, accuracy_score, confusion_matrix, roc_curve, auc, roc_auc_score\n",
    "from io import StringIO\n",
    "from sklearn.tree import export_graphviz\n",
    "\n",
    "import warnings\n",
    "# To ignore any future warnings\n",
    "warnings.filterwarnings(\"ignore\")\n",
    "\n",
    "class color:\n",
    "   PURPLE = '\\033[95m'\n",
    "   CYAN = '\\033[96m'\n",
    "   DARKCYAN = '\\033[36m'\n",
    "   BLUE = '\\033[94m'\n",
    "   GREEN = '\\033[92m'\n",
    "   YELLOW = '\\033[93m'\n",
    "   RED = '\\033[91m'\n",
    "   BOLD = '\\033[1m'\n",
    "   UNDERLINE = '\\033[4m'\n",
    "   END = '\\033[0m'\n",
    "    \n",
    "\n",
    "# read the dataset and set skipinitialspace to true to be able to .replace\n",
    "df = pd.read_csv('./MENS_CLOTHING_SALES_2018.csv', skipinitialspace=True)\n",
    "print(df.info())\n",
    "\n",
    "print(df['TotalInvestment'].isna().sum())\n",
    "print(df['Sales'].isna().sum())\n",
    "print(df['AnnualSales'].isna().sum())\n",
    "\n",
    "\n",
    "## 3 attributes with 15 attributes NaN, therefore removed\n",
    "df = df.dropna(subset=[\"TotalInvestment\", \"Sales\", \"AnnualSales\"], how='all')\n",
    "print(df.info())\n",
    "\n",
    "\n",
    "rs = 10"
   ]
  },
  {
   "cell_type": "code",
   "execution_count": 58,
   "metadata": {},
   "outputs": [
    {
     "name": "stdout",
     "output_type": "stream",
     "text": [
      "\u001b[1mTask 1 Question 1\u001b[0m\n",
      "\u001b[1mCan you identify data quality issues in this dataset such as unusual data types, missing values and others?\u001b[0m\n",
      "\n",
      "There are 15 rows that have 3 attributes missing, which is 60% missing values, therefore not reliable to impute and is removed from df\n",
      "\u001b[1m\n",
      "\n",
      "Task 1 Question 2\u001b[0m\n",
      "\u001b[1mWhat variables did you include in the analysis and what were their roles and measurement level set? Justify your choice.\u001b[0m\n",
      "\n",
      "Since all the variables have reasonable values with no missing records, 4 attributes are used.\n",
      "We can use either AnnualSales or Sales to determine which provides better cluster\n",
      "\u001b[1m\n",
      "\n",
      "Task 1 Question 3\u001b[0m\n",
      "\u001b[1mIdentify a store that is underperforming in sales. Based on your reporting, the company does not want to focus their efforts on this store. Now onwards, the selected store should not be part of analysis\u001b[0m\n",
      "<class 'pandas.core.frame.DataFrame'>\n",
      "Int64Index: 385 entries, 0 to 399\n",
      "Data columns (total 5 columns):\n",
      "StoreCode          385 non-null int64\n",
      "AnnualSales        385 non-null float64\n",
      "Sales              385 non-null float64\n",
      "SFloorSize         385 non-null int64\n",
      "TotalInvestment    385 non-null float64\n",
      "dtypes: float64(3), int64(2)\n",
      "memory usage: 18.0 KB\n",
      "None\n"
     ]
    }
   ],
   "source": [
    "#        #\n",
    "# Task 1 #\n",
    "#        #\n",
    "print(color.BOLD + \"Task 1 Question 1\" + color.END)\n",
    "print(color.BOLD + \"Can you identify data quality issues in this dataset such as unusual data types, missing values and others?\" + color.END)\n",
    "print(\"\\nThere are 15 rows that have 3 attributes missing, which is 60% missing values, \\\n",
    "therefore not reliable to impute and is removed from df\")\n",
    "\n",
    "\n",
    "print(color.BOLD + \"\\n\\nTask 1 Question 2\" + color.END)\n",
    "print(color.BOLD +\"What variables did you include in the analysis and what were their roles and measurement level set? Justify your choice.\"+ color.END)\n",
    "print(\"\\nSince all the variables have reasonable values with no missing records, 4 attributes are used.\")\n",
    "print(\"We can use either AnnualSales or Sales to determine which provides better cluster\")\n",
    "\n",
    "print(color.BOLD + \"\\n\\nTask 1 Question 3\" + color.END)\n",
    "print(color.BOLD + \"Identify a store that is underperforming in sales. Based on your reporting, the company does not \\\n",
    "want to focus their efforts on this store. Now onwards, the selected store should not be part of analysis\" + color.END)\n",
    "\n",
    "\n",
    "print(df.info())"
   ]
  },
  {
   "cell_type": "code",
   "execution_count": 57,
   "metadata": {},
   "outputs": [
    {
     "name": "stdout",
     "output_type": "stream",
     "text": [
      "\u001b[1mTask 2 Question 1\u001b[0m\n",
      "\u001b[1mBuild a default clustering model with K= 3 and answer the followings:a. How many records are assigned into each cluster?b. Plot the cluster distribution using pairplot. Explain key characteristics of each cluster/segment.\u001b[0m\n",
      "\u001b[1m\n",
      "Task 2 Question 2\u001b[0m\n",
      "\u001b[1mWhat is the effect of using the standardization method on the model above? Does the variablenormalization process enable a better clustering solution?\u001b[0m\n",
      "\u001b[1m\n",
      "Task 2 Question 3\u001b[0m\n",
      "\u001b[1mInterpret the (best out of 2.1 and 2.2) cluster analysis outcome. In other words, characterize thenature of each cluster by giving it a descriptive label by using distplot\u001b[0m\n"
     ]
    }
   ],
   "source": [
    "#        #\n",
    "# Task 2 #\n",
    "#        #\n",
    "\n",
    "print(color.BOLD + \"Task 2 Question 1\" + color.END)\n",
    "print(color.BOLD + \"Build a default clustering model with K= 3 and answer the followings:\\\n",
    "a. How many records are assigned into each cluster?\\\n",
    "b. Plot the cluster distribution using pairplot. Explain key characteristics of each cluster/\\\n",
    "segment.\" + color.END)\n",
    "\n",
    "print(color.BOLD + \"\\nTask 2 Question 2\" + color.END)\n",
    "print(color.BOLD + \"What is the effect of using the standardization method on the model above? Does the variable\\\n",
    "normalization process enable a better clustering solution?\" + color.END)\n",
    "\n",
    "print(color.BOLD + \"\\nTask 2 Question 3\" + color.END)\n",
    "print(color.BOLD + \"Interpret the (best out of 2.1 and 2.2) cluster analysis outcome. In other words, characterize the\\\n",
    "nature of each cluster by giving it a descriptive label by using distplot\" + color.END)\n"
   ]
  },
  {
   "cell_type": "code",
   "execution_count": 59,
   "metadata": {},
   "outputs": [
    {
     "name": "stdout",
     "output_type": "stream",
     "text": [
      "\u001b[1mTask 3 Question 1\u001b[0m\n",
      "\u001b[1m\u001b[0m\n",
      "\u001b[1m\n",
      "Task 3 Question 2\u001b[0m\n",
      "\u001b[1m\u001b[0m\n",
      "\u001b[1m\n",
      "Task 3 Question 3\u001b[0m\n",
      "\u001b[1m\u001b[0m\n"
     ]
    }
   ],
   "source": [
    "#        #\n",
    "# Task 3 #\n",
    "#        #\n",
    "\n",
    "print(color.BOLD + \"Task 3 Question 1\" + color.END)\n",
    "print(color.BOLD + \"\" + color.END)\n",
    "\n",
    "print(color.BOLD + \"\\nTask 3 Question 2\" + color.END)\n",
    "print(color.BOLD + \"\" + color.END)\n",
    "\n",
    "print(color.BOLD + \"\\nTask 3 Question 3\" + color.END)\n",
    "print(color.BOLD + \"\" + color.END)\n"
   ]
  },
  {
   "cell_type": "code",
   "execution_count": null,
   "metadata": {},
   "outputs": [],
   "source": [
    "#        #\n",
    "# Task 4 #\n",
    "#        #\n",
    "\n",
    "print(color.BOLD + \"Task 4 Question 1\" + color.END)\n",
    "print(color.BOLD + \"\" + color.END)\n",
    "\n",
    "print(color.BOLD + \"\\nTask 4 Question 2\" + color.END)\n",
    "print(color.BOLD + \"\" + color.END)\n",
    "\n",
    "print(color.BOLD + \"\\nTask 4 Question 3\" + color.END)\n",
    "print(color.BOLD + \"\" + color.END)"
   ]
  },
  {
   "cell_type": "code",
   "execution_count": null,
   "metadata": {},
   "outputs": [],
   "source": [
    "#        #\n",
    "# Task 5 #\n",
    "#        #\n",
    "\n",
    "print(color.BOLD + \"Task 5 Question 1\" + color.END)\n",
    "print(color.BOLD + \"\" + color.END)\n",
    "\n",
    "print(color.BOLD + \"\\nTask 5 Question 2\" + color.END)\n",
    "print(color.BOLD + \"\" + color.END)\n",
    "\n",
    "print(color.BOLD + \"\\nTask 5 Question 3\" + color.END)\n",
    "print(color.BOLD + \"\" + color.END)"
   ]
  }
 ],
 "metadata": {
  "kernelspec": {
   "display_name": "Python 3",
   "language": "python",
   "name": "python3"
  },
  "language_info": {
   "codemirror_mode": {
    "name": "ipython",
    "version": 3
   },
   "file_extension": ".py",
   "mimetype": "text/x-python",
   "name": "python",
   "nbconvert_exporter": "python",
   "pygments_lexer": "ipython3",
   "version": "3.7.1"
  }
 },
 "nbformat": 4,
 "nbformat_minor": 2
}
