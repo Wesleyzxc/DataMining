{
 "cells": [
  {
   "cell_type": "markdown",
   "metadata": {},
   "source": [
    "# Load text data"
   ]
  },
  {
   "cell_type": "code",
   "execution_count": 146,
   "metadata": {},
   "outputs": [
    {
     "name": "stdout",
     "output_type": "stream",
     "text": [
      "<class 'pandas.core.frame.DataFrame'>\n",
      "RangeIndex: 799 entries, 0 to 798\n",
      "Data columns (total 21 columns):\n",
      "Cast 1          799 non-null object\n",
      "Cast 2          799 non-null object\n",
      "Cast 3          799 non-null object\n",
      "Cast 4          799 non-null object\n",
      "Cast 5          799 non-null object\n",
      "Cast 6          799 non-null object\n",
      "Description     799 non-null object\n",
      "Director 1      799 non-null object\n",
      "Director 2      799 non-null object\n",
      "Director 3      799 non-null object\n",
      "Genre           799 non-null object\n",
      "Rating          799 non-null object\n",
      "Release Date    799 non-null object\n",
      "Runtime         799 non-null object\n",
      "Studio          799 non-null object\n",
      "Title           799 non-null object\n",
      "Writer 1        799 non-null object\n",
      "Writer 2        799 non-null object\n",
      "Writer 3        799 non-null object\n",
      "Writer 4        799 non-null object\n",
      "Year            799 non-null int64\n",
      "dtypes: int64(1), object(20)\n",
      "memory usage: 131.2+ KB\n"
     ]
    }
   ],
   "source": [
    "import pandas as pd\n",
    "\n",
    "# load the dataset\n",
    "df = pd.read_csv('./Movie.csv', skipinitialspace=True) # encoding='latin'\n",
    "\n",
    "# random state\n",
    "rs = 42\n",
    "\n",
    "# as usual, explore the dataset\n",
    "df.info()"
   ]
  },
  {
   "cell_type": "markdown",
   "metadata": {},
   "source": [
    "# Data Prepocessing"
   ]
  },
  {
   "cell_type": "code",
   "execution_count": 147,
   "metadata": {},
   "outputs": [],
   "source": [
    "#Import data preprocessing libraries\n",
    "import string\n",
    "from nltk.corpus import stopwords as sw\n",
    "from nltk.corpus import wordnet as wn\n",
    "from nltk import wordpunct_tokenize\n",
    "from nltk import WordNetLemmatizer\n",
    "from nltk import sent_tokenize\n",
    "from nltk import pos_tag\n",
    "\n",
    "# initialise WordNet lemmatizer and punctuation filter\n",
    "lemmatizer = WordNetLemmatizer()\n",
    "punct = set(string.punctuation)\n",
    "\n",
    "# load the provided stopwords (DO WE NEED TO FIND MOVIE RELATED STOPWORDS?)\n",
    "#df_stop = pd.read_csv('./Movie.csv', skipinitialspace=True) # encoding='latin'\n",
    "\n",
    "# Get stopwords with the default NLTK English stopwords\n",
    "stopwords = set(sw.words('english')).union(set(['r','c','u']))\n",
    "\n",
    "def lemmatize(token, tag):\n",
    "    tag = {\n",
    "        'N': wn.NOUN,\n",
    "        'V': wn.VERB,\n",
    "        'R': wn.ADV,\n",
    "        'J': wn.ADJ\n",
    "    }.get(tag[0], wn.NOUN)\n",
    "\n",
    "    return lemmatizer.lemmatize(token, tag)"
   ]
  },
  {
   "cell_type": "markdown",
   "metadata": {},
   "source": [
    "Cab tokenizer function"
   ]
  },
  {
   "cell_type": "code",
   "execution_count": 148,
   "metadata": {},
   "outputs": [],
   "source": [
    "def cab_tokenizer(document):\n",
    "    # initialize token list\n",
    "    tokens = []\n",
    "    \n",
    "    # split the document into sentences\n",
    "    for sent in sent_tokenize(document):\n",
    "        # split the document into tokens and then create part of speech tag for each token\n",
    "        for token, tag in pos_tag(wordpunct_tokenize(sent)):\n",
    "            # preprocess and remove unnecessary characters\n",
    "            token = token.lower()\n",
    "            token = token.strip()\n",
    "            token = token.strip('_')\n",
    "            token = token.strip('*')\n",
    "\n",
    "            # If stopword, ignore token and continue\n",
    "            if token in stopwords:\n",
    "                continue\n",
    "\n",
    "            # If punctuation, ignore token and continue\n",
    "            if all(char in punct for char in token):\n",
    "                continue\n",
    "\n",
    "            # Lemmatize the token and add back to the tokens list\n",
    "            lemma = lemmatize(token, tag)\n",
    "            tokens.append(lemma)\n",
    "    \n",
    "    return tokens"
   ]
  },
  {
   "cell_type": "code",
   "execution_count": 149,
   "metadata": {},
   "outputs": [
    {
     "name": "stdout",
     "output_type": "stream",
     "text": [
      "Top terms for cluster 0: alien, space, earth, planet, mission, \n",
      "Top terms for cluster 1: film, story, new, little, kid, \n",
      "Top terms for cluster 2: love, mother, family, young, life, \n",
      "Top terms for cluster 3: c official, site, official, official site, c official site, \n",
      "Top terms for cluster 4: life, film, documentary, c, love, \n",
      "Top terms for cluster 5: academy, best, winner, academy award, award, \n",
      "Top terms for cluster 6: friend, school, time, team, find, \n"
     ]
    }
   ],
   "source": [
    "## BEFORE CLEANING UP ##\n",
    "\n",
    "# function to visualise text cluster. Useful for the assignment too :)\n",
    "from sklearn.cluster import KMeans\n",
    "# K means clustering using the term vector\n",
    "kmeans = KMeans(n_clusters=7, random_state=rs).fit(X)\n",
    "def visualise_text_cluster(n_clusters, cluster_centers, terms, num_word = 5):\n",
    "    # -- Params --\n",
    "    # cluster_centers: cluster centers of fitted/trained KMeans/other centroid-based clustering\n",
    "    # terms: terms used for clustering\n",
    "    # num_word: number of terms to show per cluster. Change as you please.\n",
    "    \n",
    "    # find features/terms closest to centroids\n",
    "    ordered_centroids = cluster_centers.argsort()[:, ::-1]\n",
    "    \n",
    "    for cluster in range(n_clusters):\n",
    "        print(\"Top terms for cluster {}:\".format(cluster), end=\" \")\n",
    "        for term_idx in ordered_centroids[cluster, :5]:\n",
    "            print(terms[term_idx], end=', ')\n",
    "        print()\n",
    "        \n",
    "# call it\n",
    "visualise_text_cluster(kmeans.n_clusters, kmeans.cluster_centers_, tfidf_vec.get_feature_names())"
   ]
  },
  {
   "cell_type": "markdown",
   "metadata": {},
   "source": [
    "----------------T3Q1------------------------\n",
    "\n",
    "Variable included is Description because the task is to determine clusters based on description.\n",
    "Variables excluded are Cast names, Director, Rating, Release date, Runtime, Studio, Title, Writer, Year"
   ]
  },
  {
   "cell_type": "markdown",
   "metadata": {},
   "source": [
    "# ZIPF Plot"
   ]
  },
  {
   "cell_type": "code",
   "execution_count": 276,
   "metadata": {},
   "outputs": [],
   "source": [
    "from sklearn.feature_extraction.text import TfidfVectorizer\n"
   ]
  },
  {
   "cell_type": "code",
   "execution_count": 277,
   "metadata": {},
   "outputs": [],
   "source": [
    "import seaborn as sns\n",
    "import matplotlib.pyplot as plt\n",
    "\n",
    "# creating tf-idf terms - a bit slow, do it occasionaly\n",
    "def calculate_tf_idf_terms(document_col):\n",
    "    # Param - document_col: collection of raw document text that you want to analyse\n",
    "    from sklearn.feature_extraction.text import CountVectorizer\n",
    "\n",
    "    # use count vectorizer to find TF and DF of each term UNFILTERED\n",
    "    count_vec = CountVectorizer(tokenizer=cab_tokenizer, ngram_range=(1,2), min_df=2, max_df=0.8)\n",
    "    X_count = count_vec.fit_transform(df['Description'])\n",
    "    \n",
    "    # create list of terms and their tf and df\n",
    "    terms = [{'term': t, 'idx': count_vec.vocabulary_[t],\n",
    "              'tf': X_count[:, count_vec.vocabulary_[t]].sum(),\n",
    "              'df': X_count[:, count_vec.vocabulary_[t]].count_nonzero()}\n",
    "             for t in count_vec.vocabulary_]\n",
    "    \n",
    "    return terms\n",
    "    \n",
    "terms = calculate_tf_idf_terms(df['Description'])"
   ]
  },
  {
   "cell_type": "code",
   "execution_count": 278,
   "metadata": {
    "scrolled": true
   },
   "outputs": [
    {
     "data": {
      "image/png": "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\n",
      "text/plain": [
       "<Figure size 432x288 with 1 Axes>"
      ]
     },
     "metadata": {
      "needs_background": "light"
     },
     "output_type": "display_data"
    }
   ],
   "source": [
    "# visualisation of ZIPF law\n",
    "def visualise_zipf(terms, itr_step = 50):\n",
    "    from scipy.spatial.distance import euclidean\n",
    "    from math import sqrt\n",
    "    \n",
    "    # --- Param ---\n",
    "    # terms: collection of terms dictionary from calculate_tf_idf_terms function\n",
    "    # itr_step: used to control how many terms that you want to plot. Num of terms to plot = N terms / itr_step\n",
    "    \n",
    "    # sort terms by its frequency\n",
    "    terms.sort(key=lambda x: (x['tf'], x['df']), reverse=True)\n",
    "    \n",
    "    # select a few of the terms for plotting purpose\n",
    "    sel_terms = [terms[i] for i in range(0, len(terms), itr_step)]\n",
    "    labels = [term['term'] for term in sel_terms]\n",
    "    \n",
    "    # plot term frequency ranking vs its DF\n",
    "    plt.plot(range(len(sel_terms)), [x['df'] for x in sel_terms])\n",
    "    plt.xlabel('Term frequency ranking')\n",
    "    plt.ylabel('Document frequency')\n",
    "    \n",
    "    max_x = len(sel_terms)\n",
    "    max_y = max([x['df'] for x in sel_terms])\n",
    "    \n",
    "    # annotate the points\n",
    "    prev_x, prev_y = 0, 0\n",
    "    for label, x, y in zip(labels,range(len(sel_terms)), [x['df'] for x in sel_terms]):\n",
    "        # calculate the relative distance between labels to increase visibility\n",
    "        x_dist = (abs(x - prev_x) / float(max_x)) ** 2\n",
    "        y_dist = (abs(y - prev_y) / float(max_y)) ** 2\n",
    "        scaled_dist = sqrt(x_dist + y_dist)\n",
    "        \n",
    "        if (scaled_dist > 0.1):\n",
    "            plt.text(x+2, y+2, label, {'ha': 'left', 'va': 'bottom'}, rotation=30)\n",
    "            prev_x, prev_y = x, y\n",
    "    \n",
    "    plt.show()\n",
    "    \n",
    "visualise_zipf(terms)"
   ]
  },
  {
   "cell_type": "markdown",
   "metadata": {},
   "source": [
    "------------------T3 Q2--------------------- \n",
    "\n",
    "Based on the ZIPF plot:\n",
    "From most left, top 10 least useful terms: \n",
    "(most-left)film, meet, mark, among, factory\n",
    "(most-right)howver one, laing upset, edit tone, take small, palace.\n",
    "This is because terms from most left appear too frequently in most documents and most right terms are too specific, thus do not add value to clustering"
   ]
  },
  {
   "cell_type": "markdown",
   "metadata": {},
   "source": [
    "T3 Q3: Disregard 5 highest because it occurs in too many documents, thus do not add value to clustering. Also disregard 5 lowest because it occurs in too few documents, they are too specific to add value to clustering."
   ]
  },
  {
   "cell_type": "markdown",
   "metadata": {},
   "source": [
    "T3 Q4: \n",
    "td-idf, where more count = term has higher weight but also takes into account the number of occurences in all \"description\"(document frequency) to offset the fact that some words just occur more frequently in general."
   ]
  },
  {
   "cell_type": "markdown",
   "metadata": {},
   "source": [
    "T3 Q5: 1 input feature - \"Description\" ???"
   ]
  },
  {
   "cell_type": "code",
   "execution_count": null,
   "metadata": {},
   "outputs": [],
   "source": []
  },
  {
   "cell_type": "markdown",
   "metadata": {},
   "source": [
    "# Find optimal number of clusters"
   ]
  },
  {
   "cell_type": "code",
   "execution_count": 279,
   "metadata": {},
   "outputs": [],
   "source": [
    "\n",
    "# tf idf vectoriser WITH FILTER\n",
    "tfidf_vec = TfidfVectorizer(tokenizer=cab_tokenizer, ngram_range=(1,2), min_df=2, max_df=0.8)\n",
    "X = tfidf_vec.fit_transform(df['Description'])# + \" \" + df[\"Title\"]) # derive genre from clusters"
   ]
  },
  {
   "cell_type": "code",
   "execution_count": 280,
   "metadata": {},
   "outputs": [
    {
     "name": "stdout",
     "output_type": "stream",
     "text": [
      "9878\n"
     ]
    }
   ],
   "source": [
    "print(len(tfidf_vec.get_feature_names()))"
   ]
  },
  {
   "cell_type": "code",
   "execution_count": 281,
   "metadata": {},
   "outputs": [
    {
     "data": {
      "image/png": "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\n",
      "text/plain": [
       "<Figure size 432x288 with 1 Axes>"
      ]
     },
     "metadata": {
      "needs_background": "light"
     },
     "output_type": "display_data"
    }
   ],
   "source": [
    "# list to save the clusters and cost\n",
    "clusters = []\n",
    "inertia_vals = []\n",
    "\n",
    "# this whole process should take a while\n",
    "for k in range(2, 15, 2):\n",
    "    # train clustering with the specified K\n",
    "    model = KMeans(n_clusters=k, random_state=rs, n_jobs=10)\n",
    "    model.fit(X) # (X)\n",
    "    \n",
    "    # append model to cluster list\n",
    "    clusters.append(model)\n",
    "    inertia_vals.append(model.inertia_)\n",
    "\n",
    "# plot the inertia vs K values\n",
    "plt.plot(range(2,15,2), inertia_vals, marker='*')\n",
    "plt.show()"
   ]
  },
  {
   "cell_type": "code",
   "execution_count": 287,
   "metadata": {},
   "outputs": [
    {
     "name": "stdout",
     "output_type": "stream",
     "text": [
      "best silhoutte score: 0.001717644120179198 clusters: 8\n",
      "Howver, there is a visible elbow at K= 4\n"
     ]
    }
   ],
   "source": [
    "from sklearn.metrics import silhouette_score\n",
    "\n",
    "sil_scores = []\n",
    "\n",
    "for t in clusters:\n",
    "    sil_scores.append(silhouette_score(X,t.predict(X)))\n",
    "\n",
    "min_score = min(sil_scores)\n",
    "max_score = max(sil_scores)\n",
    "\n",
    "# index of lowest and highest score \n",
    "#print(sil_scores.index(min_score))\n",
    "#print(sil_scores.index(max_score))\n",
    "\n",
    "#print(sil_scores)\n",
    "print(\"best silhoutte score: \" + str(max_score) + \" clusters: \" + str(sil_scores.index(max_score) + 2))\n",
    "print(\"Howver, there is a visible elbow at K= 4\")"
   ]
  },
  {
   "cell_type": "code",
   "execution_count": 286,
   "metadata": {},
   "outputs": [
    {
     "name": "stdout",
     "output_type": "stream",
     "text": [
      "Top terms for cluster 0: alien, earth, space, planet, mission, \n",
      "Top terms for cluster 1: film, story, new, documentary, feature, \n",
      "Top terms for cluster 2: love, life, woman, man, one, \n",
      "Top terms for cluster 3: life, family, year, power, old, \n"
     ]
    }
   ],
   "source": [
    "kmeans = KMeans(n_clusters=4, random_state=rs).fit(X) #X is filtered\n",
    "visualise_text_cluster(kmeans.n_clusters, kmeans.cluster_centers_, tfidf_vec.get_feature_names())"
   ]
  },
  {
   "cell_type": "markdown",
   "metadata": {},
   "source": [
<<<<<<< HEAD
    "T3 Q6: Based on silhoutte scores, it is recommended to have 8 clusters. However, some clusters do not make sense until it was reduced to 4 clusters, as recommended by the elbow method.\n",
    "\n",
    "cluster 0 is 'SciFi', cluster 1 is 'Documentary', cluster 2 is 'kids&family', cluster 3 is 'Romance'. The 4 clusters correspond to the 4 given genres."
=======
    "sci fi\n",
    "documentary\n",
    "documentary\n",
    "romance\n",
    "romance\n",
    "sci fi?\n",
    "kids and family \n",
    "kids and family"
>>>>>>> f1cf4a818fa466bb280bd38767718511c3816743
   ]
  },
  {
   "cell_type": "code",
   "execution_count": 334,
   "metadata": {},
   "outputs": [
    {
     "name": "stdout",
     "output_type": "stream",
     "text": [
      "year 224\n",
      "find 225\n",
      "new 236\n",
      "one 285\n",
      "life 341\n",
      "film 425\n"
     ]
    }
   ],
   "source": [
    "d = sorted(terms, key = lambda i: i['tf'])[-6:]\n",
    "\n",
    "for t in d:\n",
    "    print(str(t['term']) + \" \"  +str(t['tf']))"
   ]
  },
  {
   "cell_type": "markdown",
   "metadata": {},
   "source": [
    "T3 Q7"
   ]
  },
  {
   "cell_type": "markdown",
   "metadata": {},
   "source": [
    "T3 Q8: Display genres for users to filter and search movies."
   ]
  }
 ],
 "metadata": {
  "kernelspec": {
   "display_name": "Python 3",
   "language": "python",
   "name": "python3"
  },
  "language_info": {
   "codemirror_mode": {
    "name": "ipython",
    "version": 3
   },
   "file_extension": ".py",
   "mimetype": "text/x-python",
   "name": "python",
   "nbconvert_exporter": "python",
   "pygments_lexer": "ipython3",
   "version": "3.7.1"
  }
 },
 "nbformat": 4,
 "nbformat_minor": 2
}
