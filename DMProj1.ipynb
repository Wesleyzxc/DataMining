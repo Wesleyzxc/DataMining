{
 "cells": [
  {
   "cell_type": "markdown",
   "metadata": {},
   "source": [
    "# Import all packages and define functions used for data-preprocessing \n",
    "# Reads the dataset"
   ]
  },
  {
   "cell_type": "code",
   "execution_count": 1,
   "metadata": {},
   "outputs": [],
   "source": [
    "#### Import all packages\n",
    "import pandas as pd\n",
    "import numpy as np\n",
    "import matplotlib.pyplot as plt\n",
    "import seaborn as sns\n",
    "\n",
    "from sklearn import tree, neighbors, svm\n",
    "from sklearn.model_selection import GridSearchCV, train_test_split, cross_val_score\n",
    "from sklearn.tree import DecisionTreeClassifier\n",
    "from sklearn.metrics import classification_report, accuracy_score, confusion_matrix\n",
    "from sklearn.preprocessing import StandardScaler\n",
    "from sklearn.model_selection import validation_curve\n",
    "\n",
    "import warnings\n",
    "# To ignore any future warnings\n",
    "warnings.filterwarnings(\"ignore\")\n",
    "\n",
    "# Repeated functions\n",
    "def getMode(df, attribute, condAtt, cond):\n",
    "    return (df[attribute][df[condAtt]==cond].mode()[0])\n",
    "\n",
    "def replaceWithMode(df, attribute, condAtt, cond):\n",
    "    mode = getMode(df, attribute, condAtt, cond)\n",
    "    df[attribute] = df[attribute].mask(((df[condAtt]==cond) & (df[attribute]=='?')), mode)\n",
    "    \n",
    "\n",
    "# read the dataset and set skipinitialspace to true to be able to .replace\n",
    "df = pd.read_csv('./HouseholderAtRisk(1).csv', skipinitialspace=True)\n",
    "\n"
   ]
  },
  {
   "cell_type": "markdown",
   "metadata": {},
   "source": [
    "# Task 1 \n",
    "**1)      What proportion of households who have high risk?**\n",
    "\n",
    "Properties with high risks are calculated with value_counts"
   ]
  },
  {
   "cell_type": "code",
   "execution_count": 2,
   "metadata": {
    "scrolled": true
   },
   "outputs": [
    {
     "name": "stdout",
     "output_type": "stream",
     "text": [
      "Proportion of high risk = 0.7624690617265432\n"
     ]
    }
   ],
   "source": [
    "# Task 1 question 1\n",
    "# Show proportion of high risk\n",
    "risks = df['AtRisk'].value_counts()\n",
    "print(\"Proportion of high risk = \" + str(risks[0]/len(df)))"
   ]
  },
  {
   "cell_type": "markdown",
   "metadata": {},
   "source": [
    "# Task 1\n",
    "**2) Did you have to fix any data quality problems? Detail them?**\n"
   ]
  },
  {
   "cell_type": "code",
   "execution_count": 3,
   "metadata": {},
   "outputs": [],
   "source": [
    "# Drop rows with multiple columns containing NaN values\n",
    "df = df.dropna(subset=[\"Relationship\", \"Sex\", \"NumYearsEducation\"], how='all')\n",
    "\n",
    "# Replace inconsistency in CountryOfOrigin\n",
    "df['CountryOfOrigin'] = df['CountryOfOrigin'].replace(\"US\", \"USA\").replace(\"United-States\", \"USA\")\n",
    "\n",
    "##Replace ? to mode in CountryOfOrigin\n",
    "modeCountry = df['CountryOfOrigin'].mode()[0]\n",
    "df.loc[df['CountryOfOrigin']=='?', 'CountryOfOrigin'] = modeCountry\n",
    "\n",
    "# Removing Gender to use numerical binary for Sex where 0 = Male, 1 = Female\n",
    "df.drop('Gender', axis=1, inplace=True)\n",
    "\n",
    "# Replace -1 value in Age with mean value\n",
    "modeAge = df['Age'].mode()[0]\n",
    "df.loc[df['Age']==-1, 'Age'] = modeAge\n",
    "\n",
    "# Round off age\n",
    "df['Age'] = df['Age'].astype(int)\n",
    "\n",
    "# Drop race as there are 39954 NaN vs 45 labelled classes\n",
    "df.drop('Race', axis=1, inplace=True)\n",
    "\n",
    "\n",
    "# Sets upper boundary of 90 hours work week in NumWorkingHoursPerWeek and fills with mean value\n",
    "modeWorkHours = df['NumWorkingHoursPerWeek'].mode()[0]\n",
    "df['NumWorkingHoursPerWeek'] = df['NumWorkingHoursPerWeek'].where(df['NumWorkingHoursPerWeek'] <= 90, modeWorkHours)  \n",
    "# Round off hours                             \n",
    "df['NumWorkingHoursPerWeek'] = df['NumWorkingHoursPerWeek'].astype(int)\n",
    "\n",
    "# Replaces missing data with mean of column\n",
    "df['Weighting'] = df['Weighting'].fillna(df['Weighting'].mean())\n",
    "\n",
    "\n",
    "# Replaces missing data with unknown Occupation\n",
    "df['Occupation'] = df['Occupation'].fillna(\"?\")\n",
    "\n",
    "# Replaces unknowns with the mode of attribute\n",
    "# By WorkClass\n",
    "replaceWithMode(df,'Occupation','WorkClass','Federal-gov')\n",
    "replaceWithMode(df,'Occupation','WorkClass','Self-emp-inc')\n",
    "replaceWithMode(df,'Occupation','WorkClass','Private')\n",
    "replaceWithMode(df,'Occupation','WorkClass','Never-worked')\n",
    "\n",
    "# By education\n",
    "for values in df['Education'].unique():\n",
    "    replaceWithMode(df, 'Occupation', 'Education', values)\n",
    "    replaceWithMode(df, 'WorkClass', 'Education', values)\n",
    "\n",
    "\n",
    "# Never-worked adults will have occupation set as other services as a generic unknown\n",
    "df['Occupation'] = df['Occupation'].mask(((df['WorkClass']=='Never-worked') & (df['Occupation']=='?')), \"Other-service\")\n",
    "\n",
    "\n",
    "# Turning CapitalAvg into binary options \n",
    "df['CapitalAvg'][df['CapitalAvg'] > 0] = 1\n",
    "df['CapitalAvg'] = df['CapitalAvg'].astype(int)"
   ]
  },
  {
   "cell_type": "code",
   "execution_count": 4,
   "metadata": {},
   "outputs": [
    {
     "name": "stdout",
     "output_type": "stream",
     "text": [
      "0        1\n",
      "1        1\n",
      "2        1\n",
      "3        1\n",
      "4        1\n",
      "5        1\n",
      "6        1\n",
      "7        1\n",
      "8        1\n",
      "9        1\n",
      "10       1\n",
      "11       1\n",
      "12       1\n",
      "13       1\n",
      "14       1\n",
      "15       1\n",
      "16       2\n",
      "17       1\n",
      "18       1\n",
      "19       1\n",
      "20       1\n",
      "21       1\n",
      "22       1\n",
      "23       1\n",
      "24       1\n",
      "25       2\n",
      "26       1\n",
      "27       1\n",
      "28       1\n",
      "29       1\n",
      "        ..\n",
      "39969    1\n",
      "39970    1\n",
      "39971    1\n",
      "39972    1\n",
      "39973    1\n",
      "39974    1\n",
      "39975    1\n",
      "39976    1\n",
      "39977    1\n",
      "39978    1\n",
      "39979    1\n",
      "39980    1\n",
      "39981    1\n",
      "39982    2\n",
      "39983    1\n",
      "39984    1\n",
      "39985    1\n",
      "39986    1\n",
      "39987    1\n",
      "39988    1\n",
      "39989    1\n",
      "39990    1\n",
      "39991    1\n",
      "39992    1\n",
      "39993    1\n",
      "39994    1\n",
      "39995    1\n",
      "39996    1\n",
      "39997    1\n",
      "39998    1\n",
      "Name: Weighting, Length: 39027, dtype: category\n",
      "Categories (4, int64): [1 < 2 < 3 < 4]\n"
     ]
    }
   ],
   "source": [
    "# Converting weight from 1 to 4 based on equal intervals (equi-width)\n",
    "weightMax = df['Weighting'].max()\n",
    "bins = [0, weightMax/4, weightMax/2, weightMax*3/4,  weightMax+1]\n",
    "labels =[1,2,3,4]\n",
    "df['Weighting'] = pd.cut(df['Weighting'], bins,labels=labels)\n",
    "print (df['Weighting'])"
   ]
  },
  {
   "cell_type": "code",
   "execution_count": 5,
   "metadata": {},
   "outputs": [],
   "source": [
    "# Converting age from 1 to 4 based on equal intervals (equi-width)\n",
    "df['Age'].max()\n",
    "ageMax = df['Age'].max()\n",
    "bins = [0, ageMax/4, ageMax/2, ageMax*3/4,  ageMax+1]\n",
    "labels =[1,2,3,4]\n",
    "df['Age'] = pd.cut(df['Age'], bins,labels=labels)"
   ]
  },
  {
   "cell_type": "code",
   "execution_count": 6,
   "metadata": {},
   "outputs": [],
   "source": [
    "# Converting education years from 1 to 4 based on equal intervals (equi-width)\n",
    "df['NumYearsEducation'].max()\n",
    "eduMax = df['NumYearsEducation'].max()\n",
    "bins = [0, eduMax/4, eduMax/2, eduMax*3/4,  eduMax+1]\n",
    "labels =[1,2,3,4]\n",
    "df['NumYearsEducation'] = pd.cut(df['NumYearsEducation'], bins,labels=labels)"
   ]
  },
  {
   "cell_type": "code",
   "execution_count": 7,
   "metadata": {},
   "outputs": [],
   "source": [
    "###Mappings\n",
    "\n",
    "atriskclassMapping = {'High': 1, 'Low':0} #Binary\n",
    "\n",
    "workclassMapping = {'Private':0, 'Local-gov': 1, 'Self-emp-not-inc':2, 'Federal-gov': 3, 'State-gov': 4,  'Self-emp-inc': 5\\\n",
    "                    ,'Without-pay':6, 'Never-worked':7}\n",
    "\n",
    "educationclassMapping = {'Preschool':0,'1st-4th': 1, '5th-6th': 2, '7th-8th': 3, '9th': 4, '10th': 5,\n",
    "       '11th':6, '12th':7,'HS-grad':8, 'Some-college':9, 'Bachelors':10, 'Prof-school':11, 'Masters': 12, 'Doctorate': 13,\n",
    "                         'Assoc-acdm': 14, 'Assoc-voc': 15} #Ordinal?? not sure of order\n",
    "\n",
    "maritalstatusclassMapping = {'Never-married': 0, 'Married-civ-spouse': 1, 'Widowed': 2, 'Divorced':3,\n",
    "       'Separated':4, 'Married-spouse-absent':5, 'Married-AF-spouse':6 }\n",
    "\n",
    "occupationclassMapping = {'Machine-op-inspct': 0 , 'Farming-fishing': 1, 'Protective-serv': 2,\n",
    "       'Adm-clerical': 3, 'Other-service': 4, 'Craft-repair': 5, 'Prof-specialty': 6,\n",
    "       'Exec-managerial': 7, 'Tech-support': 8, 'Sales': 9, 'Priv-house-serv': 10,\n",
    "       'Transport-moving': 11, 'Handlers-cleaners': 12, 'Armed-Forces': 13}\n",
    "\n",
    "relationshipclassMapping = {'Own-child': 0, 'Husband':1, 'Not-in-family':2, 'Unmarried':3, 'Wife':4,\n",
    "       'Other-relative':5}\n",
    "\n",
    "countryclassMapping = {'USA':1, 'Peru':1, 'Guatemala':1, 'Mexico':1, 'Dominican-Republic':1,\n",
    "       'Ireland':2, 'Germany':2, 'Philippines':3, 'Thailand':3, 'Haiti':1,\n",
    "       'El-Salvador':1, 'Puerto-Rico':1, 'Vietnam':3, 'South':3, 'Columbia':1,\n",
    "       'Japan':3, 'India':4, 'Cambodia':1, 'Poland':2, 'Laos':3, 'England':2, 'Cuba':1,\n",
    "       'Taiwan':2, 'Italy':2, 'Canada':1, 'Portugal':2, 'China':3, 'Nicaragua':1,\n",
    "       'Honduras':1, 'Iran':4, 'Scotland':2, 'Jamaica':1, 'Ecuador':1, 'Yugoslavia':1,\n",
    "       'Hungary':2, 'Hong':3, 'Greece':2, 'Trinadad&Tobago':1,\n",
    "       'Outlying-US(Guam-USVI-etc)':1, 'France':2, 'Holand-Netherlands':2}\n",
    "\n",
    "df['AtRisk'] = df['AtRisk'].map(atriskclassMapping).astype(int)\n",
    "df['WorkClass'] = df['WorkClass'].map(workclassMapping).astype(int)\n",
    "df['Education'] = df['Education'].map(educationclassMapping).astype(int)\n",
    "df['Marital-Status'] = df['Marital-Status'].map(maritalstatusclassMapping).astype(int)\n",
    "df['Occupation'] = df['Occupation'].map(occupationclassMapping).astype(int)\n",
    "df['Relationship'] = df['Relationship'].map(relationshipclassMapping).astype(int)\n",
    "df['CountryOfOrigin'] = df['CountryOfOrigin'].map(countryclassMapping).astype(int)\n",
    "df['NumYearsEducation']= df['NumYearsEducation'].astype(int)"
   ]
  },
  {
   "cell_type": "markdown",
   "metadata": {},
   "source": [
    "# Task 2 Predictive Modelling using Decision Trees\n",
    "\n",
    "**Dataset is split into target and input types**\n",
    "\n",
    "By dropping ID, target variable and other object types, a decision tree can be formed.\n",
    "\n",
    "Cross-fold validation with k=10 is done to the training set of 70%, having 7% for each fold. Then, it is fitted and ready for analysis\n"
   ]
  },
  {
   "cell_type": "code",
   "execution_count": 8,
   "metadata": {},
   "outputs": [
    {
     "data": {
      "text/plain": [
       "DecisionTreeClassifier(class_weight=None, criterion='gini', max_depth=None,\n",
       "                       max_features=None, max_leaf_nodes=None,\n",
       "                       min_impurity_decrease=0.0, min_impurity_split=None,\n",
       "                       min_samples_leaf=1, min_samples_split=2,\n",
       "                       min_weight_fraction_leaf=0.0, presort=False,\n",
       "                       random_state=10, splitter='best')"
      ]
     },
     "execution_count": 8,
     "metadata": {},
     "output_type": "execute_result"
    }
   ],
   "source": [
    "# target/input split\n",
    "y = df['AtRisk']\n",
    "# Drop all object type (temporarily)\n",
    "X = df.drop(['ID', 'CapitalLoss', 'CapitalGain', 'AtRisk'], axis=1)\n",
    "\n",
    "X_mat = X.as_matrix()\n",
    "X_train, X_test, y_train, y_test = train_test_split(X_mat, y, test_size=0.3, stratify=y, random_state=10)\n",
    "\n",
    "# simple decision tree training\n",
    "clf = DecisionTreeClassifier(random_state=10)\n",
    "K_fold = cross_val_score(clf, X_train, y_train, cv=10)\n",
    "clf.fit(X_train, y_train)\n"
   ]
  },
  {
   "cell_type": "markdown",
   "metadata": {},
   "source": [
    "# Task 2 \n",
    "\n",
    "**1a) What is classification accuracy on training and test datasets?**\n",
    "\n",
    "**b) Which variable is used for the first split? What are the variables that are used for the second split?**\n",
    "\n",
    "Before binning age: 0.76~78\n",
    "\n",
    "After binning age: 0.798\n",
    "\n",
    "After binning age and weighting: 0.7975\n",
    "\n",
    "And numyearsedu: 0.79776"
   ]
  },
  {
   "cell_type": "code",
   "execution_count": 9,
   "metadata": {
    "scrolled": true
   },
   "outputs": [
    {
     "name": "stdout",
     "output_type": "stream",
     "text": [
      "Train accuracy: 0.9230910022695659\n",
      "Test accuracy: 0.8007515586301136\n",
      "Marital-Status : 0.27062482243689434\n",
      "NumWorkingHoursPerWeek : 0.15970204490200668\n",
      "NumYearsEducation : 0.1576102469549165\n",
      "Occupation : 0.09921711455636364\n",
      "WorkClass : 0.06716255151024704\n",
      "CapitalAvg : 0.059409490387715334\n",
      "Education : 0.05845210233198633\n",
      "Age : 0.042880059452403835\n",
      "Relationship : 0.030868494459210312\n",
      "CountryOfOrigin : 0.018824098086715868\n",
      "Sex : 0.018076910643538842\n",
      "Weighting : 0.017172064278001335\n"
     ]
    }
   ],
   "source": [
    "# Task 2 1a\n",
    "print(\"Train accuracy:\", clf.score(X_train, y_train))\n",
    "print(\"Test accuracy:\", clf.score(X_test, y_test))\n",
    "\n",
    "# Task 2 1b\n",
    "\n",
    "# grab feature importances from the model and feature name from the original X\n",
    "importances = clf.feature_importances_\n",
    "feature_names = X.columns\n",
    "\n",
    "# sort them out in descending order\n",
    "indices = np.argsort(importances)\n",
    "indices = np.flip(indices, axis=0)\n",
    "\n",
    "for i in indices:\n",
    "    print(feature_names[i], ':', importances[i])"
   ]
  },
  {
   "cell_type": "markdown",
   "metadata": {},
   "source": [
    "# Task 2\n",
    "\n",
    "**2) Build another decision tree tuned with GridSearchCV**\n",
    "\n",
    "With this, we have set the hyperparameters as the maximum depth of tree, and test against depths of 1 to 100, with cross fold validation of k=5. Then, the accuracy and scores are printed.\n",
    "\n",
    "Before binning age: 0.8360<br>\n",
    "After binning age: 0.83659<br>\n",
    "After binning age and weighting: 0.83673<br>\n",
    "And numyearsedu: 0.83498"
   ]
  },
  {
   "cell_type": "code",
   "execution_count": 10,
   "metadata": {},
   "outputs": [
    {
     "name": "stdout",
     "output_type": "stream",
     "text": [
      "The training set gave a best score of 0.8350172047734095\n"
     ]
    }
   ],
   "source": [
    "clf = DecisionTreeClassifier(random_state=5)\n",
    "tree_depth = np.arange(1,100)\n",
    "\n",
    "gs = GridSearchCV(clf, param_grid={'max_depth':tree_depth}, iid=True, cv=5)\n",
    "\n",
    "#K_fold_prediction = cross_val_score(gs, X_train, y_train, cv=3)\n",
    "#print(\"Accuracy: %0.2f (+/- %0.2f)\" % (K_fold_prediction.mean(), K_fold_prediction.std() * 2))\n",
    "#print(\"Cross validation scores are:\", K_fold_prediction)\n",
    "\n",
    "gs.fit(X_train, y_train)\n",
    "print(\"The training set gave a best score of \" + str(gs.best_score_))\n",
    "    "
   ]
  },
  {
   "cell_type": "code",
   "execution_count": 11,
   "metadata": {},
   "outputs": [
    {
     "name": "stdout",
     "output_type": "stream",
     "text": [
      "{'max_depth': 9}\n",
      "DecisionTreeClassifier(class_weight=None, criterion='gini', max_depth=9,\n",
      "                       max_features=None, max_leaf_nodes=None,\n",
      "                       min_impurity_decrease=0.0, min_impurity_split=None,\n",
      "                       min_samples_leaf=1, min_samples_split=2,\n",
      "                       min_weight_fraction_leaf=0.0, presort=False,\n",
      "                       random_state=5, splitter='best')\n"
     ]
    }
   ],
   "source": [
    "print (str(gs.best_params_))\n",
    "print (str(gs.best_estimator_))"
   ]
  },
  {
   "cell_type": "code",
   "execution_count": 12,
   "metadata": {},
   "outputs": [
    {
     "name": "stdout",
     "output_type": "stream",
     "text": [
      "Marital-Status : 0.4394481815185936\n",
      "NumYearsEducation : 0.2464632356167735\n",
      "CapitalAvg : 0.0994964416955713\n",
      "NumWorkingHoursPerWeek : 0.06196269924872706\n",
      "Occupation : 0.05681806356239786\n",
      "Education : 0.04779442178346097\n",
      "WorkClass : 0.017945060030801815\n",
      "Age : 0.012792866395406308\n",
      "Relationship : 0.006553068746749057\n",
      "Sex : 0.005139256555641196\n",
      "CountryOfOrigin : 0.0039613084402189795\n",
      "Weighting : 0.0016253964056582642\n"
     ]
    }
   ],
   "source": [
    "##Variables\n",
    "#get attribute scores from best model\n",
    "best_est = gs.best_estimator_\n",
    "# grab feature importances from the model and feature name from the original X\n",
    "importances = best_est.feature_importances_\n",
    "feature_names = X.columns\n",
    "\n",
    "# sort them out in descending order\n",
    "indices = np.argsort(importances)\n",
    "indices = np.flip(indices, axis=0)\n",
    "\n",
    "for i in indices:\n",
    "    print(feature_names[i], ':', importances[i])"
   ]
  },
  {
   "cell_type": "markdown",
   "metadata": {},
   "source": [
    "# Test for overfitting"
   ]
  },
  {
   "cell_type": "code",
   "execution_count": 13,
   "metadata": {},
   "outputs": [
    {
     "data": {
      "image/png": "[encoded data removed]",
      "text/plain": [
       "<Figure size 432x288 with 1 Axes>"
      ]
     },
     "metadata": {
      "needs_background": "light"
     },
     "output_type": "display_data"
    }
   ],
   "source": [
    "train_scores, test_scores = validation_curve(\n",
    "    DecisionTreeClassifier(random_state=5), X, y, param_name=\"max_depth\", param_range=tree_depth,\n",
    "    cv=5, scoring=\"accuracy\", n_jobs=1)\n",
    "\n",
    "train_scores_mean = np.mean(train_scores, axis=1)\n",
    "train_scores_std = np.std(train_scores, axis=1)\n",
    "test_scores_mean = np.mean(test_scores, axis=1)\n",
    "test_scores_std = np.std(test_scores, axis=1)\n",
    "\n",
    "plt.title(\"Validation Curve with DT\")\n",
    "plt.xlabel(\"max_depth\")\n",
    "plt.ylabel(\"Score\")\n",
    "plt.ylim(0.0, 1.1)\n",
    "lw = 2\n",
    "plt.semilogx(tree_depth, train_scores_mean, label=\"Training score\",\n",
    "             color=\"darkorange\", lw=lw)\n",
    "plt.fill_between(tree_depth, train_scores_mean - train_scores_std,\n",
    "                 train_scores_mean + train_scores_std, alpha=0.2,\n",
    "                 color=\"darkorange\", lw=lw)\n",
    "plt.semilogx(tree_depth, test_scores_mean, label=\"Cross-validation score\",\n",
    "             color=\"navy\", lw=lw)\n",
    "plt.fill_between(tree_depth, test_scores_mean - test_scores_std,\n",
    "                 test_scores_mean + test_scores_std, alpha=0.2,\n",
    "                 color=\"navy\", lw=lw)\n",
    "plt.legend(loc=\"best\")\n",
    "plt.show()"
   ]
  },
  {
   "cell_type": "code",
   "execution_count": 14,
   "metadata": {},
   "outputs": [
    {
     "name": "stdout",
     "output_type": "stream",
     "text": [
      "Train accuracy: 0.8512336188593601\n",
      "Test accuracy: 0.8321803740712272\n"
     ]
    }
   ],
   "source": [
    "# Task 2 2a\n",
    "print(\"Train accuracy:\", gs.score(X_train, y_train))\n",
    "print(\"Test accuracy:\", gs.score(X_test, y_test))\n"
   ]
  }
 ],
 "metadata": {
  "kernelspec": {
   "display_name": "Python 3",
   "language": "python",
   "name": "python3"
  },
  "language_info": {
   "codemirror_mode": {
    "name": "ipython",
    "version": 3
   },
   "file_extension": ".py",
   "mimetype": "text/x-python",
   "name": "python",
   "nbconvert_exporter": "python",
   "pygments_lexer": "ipython3",
   "version": "3.7.3"
  }
 },
 "nbformat": 4,
 "nbformat_minor": 2
}
