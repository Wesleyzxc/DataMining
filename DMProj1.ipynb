{
 "cells": [
  {
   "cell_type": "markdown",
   "metadata": {},
   "source": [
    "Import all packages in a cell"
   ]
  },
  {
   "cell_type": "code",
   "execution_count": 1,
   "metadata": {},
   "outputs": [],
   "source": [
    "# Import all packages\n",
    "import pandas as pd\n",
    "import numpy as np\n",
    "import matplotlib.pyplot as plt\n",
    "import seaborn as sns\n",
    "import warnings\n",
    "\n",
    "\n"
   ]
  },
  {
   "cell_type": "code",
   "execution_count": 2,
   "metadata": {
    "scrolled": true
   },
   "outputs": [
    {
     "name": "stdout",
     "output_type": "stream",
     "text": [
      "<class 'pandas.core.frame.DataFrame'>\n",
      "RangeIndex: 39999 entries, 0 to 39998\n",
      "Data columns (total 18 columns):\n",
      "ID                        39999 non-null int64\n",
      "Age                       39032 non-null float64\n",
      "WorkClass                 39027 non-null object\n",
      "Weighting                 38707 non-null float64\n",
      "Education                 39027 non-null object\n",
      "NumYearsEducation         39027 non-null float64\n",
      "Marital-Status            39027 non-null object\n",
      "Occupation                39013 non-null object\n",
      "Relationship              39027 non-null object\n",
      "Race                      45 non-null object\n",
      "Gender                    39027 non-null object\n",
      "CapitalLoss               39027 non-null float64\n",
      "CapitalGain               39027 non-null float64\n",
      "CapitalAvg                39027 non-null float64\n",
      "NumWorkingHoursPerWeek    39027 non-null float64\n",
      "Sex                       39027 non-null float64\n",
      "CountryOfOrigin           39969 non-null object\n",
      "AtRisk                    39999 non-null object\n",
      "dtypes: float64(8), int64(1), object(9)\n",
      "memory usage: 5.5+ MB\n",
      "None\n",
      "Proportion of high risk = 0.7624690617265432\n"
     ]
    }
   ],
   "source": [
    "# read the dataset and set skipinitialspace to true to be able to .replace\n",
    "df = pd.read_csv('./HouseholderAtRisk(1).csv', skipinitialspace=True)\n",
    "\n",
    "# show all columns \n",
    "print(df.info())\n",
    "\n",
    "# Task 1 question 1\n",
    "# Show proportion of high risk\n",
    "risks = df['AtRisk'].value_counts()\n",
    "print(\"Proportion of high risk = \" + str(risks[0]/len(df)))\n"
   ]
  },
  {
   "cell_type": "code",
   "execution_count": null,
   "metadata": {
    "scrolled": true
   },
   "outputs": [],
   "source": [
    "# Replace inconsistency in CountryOfOrigin\n",
    "df['CountryOfOrigin'] = df['CountryOfOrigin'].replace(\"US\", \"USA\").replace(\"United-States\", \"USA\")\n",
    "\n",
    "# Removing Gender to use numerical binary for Sex where 0 = Male, 1 = Female\n",
    "df.drop('Gender', axis=1, inplace=True)\n",
    "\n",
    "# Replace missing value in Age with mean value\n",
    "meanAge = df['Age'].mean()\n",
    "df['Age'].fillna(meanAge, inplace=True)\n",
    "df.loc[df['Age']==-1, 'Age'] = meanAge\n",
    "\n",
    "# Round off age\n",
    "df['Age'] = df['Age'].astype(int)\n",
    "\n",
    "# Drop race as there are 39954 NaN vs 45 labelled classes\n",
    "df.drop('Race', axis=1, inplace=True)\n",
    "\n",
    "# Replace missing value in NumYearsEducation wih mean value\n",
    "df['NumYearsEducation'].fillna(df['NumYearsEducation'].mean(), inplace=True)\n",
    "\n",
    "# Replace missing value in Marital Status with mode value\n",
    "df['Marital-Status'].fillna(df['Marital-Status'].mode()[0], inplace=True)\n",
    "\n",
    "# Replace missing value in Sex with mode value\n",
    "df['Sex'].fillna(df['Sex'].mode()[0], inplace=True)\n",
    "\n",
    "# Sets upper boundary of 90 hours work week in NumWorkingHoursPerWeek and fills with mean value\n",
    "meanWorkHours = df['NumWorkingHoursPerWeek'].mean()\n",
    "df['NumWorkingHoursPerWeek'] = df['NumWorkingHoursPerWeek'].where(df['NumWorkingHoursPerWeek'] <= 90, meanWorkHours)  \n",
    "# Replace missing value in NumWorkingHoursPerWeek with mean value\n",
    "df['NumWorkingHoursPerWeek'].fillna(meanWorkHours, inplace=True)\n",
    "# Round off hours                             \n",
    "df['NumWorkingHoursPerWeek'] = df['NumWorkingHoursPerWeek'].astype(int)\n",
    "                                    \n",
    "\n"
   ]
  },
  {
   "cell_type": "code",
   "execution_count": 17,
   "metadata": {
    "scrolled": true
   },
   "outputs": [
    {
     "name": "stdout",
     "output_type": "stream",
     "text": [
      "0        True\n",
      "1        True\n",
      "2        True\n",
      "3        True\n",
      "4        True\n",
      "5        True\n",
      "6        True\n",
      "7        True\n",
      "8        True\n",
      "9        True\n",
      "10       True\n",
      "11       True\n",
      "12       True\n",
      "13       True\n",
      "14       True\n",
      "15       True\n",
      "16       True\n",
      "17       True\n",
      "18       True\n",
      "19       True\n",
      "20       True\n",
      "21       True\n",
      "22       True\n",
      "23       True\n",
      "24       True\n",
      "25       True\n",
      "26       True\n",
      "27       True\n",
      "28       True\n",
      "29       True\n",
      "         ... \n",
      "39969    True\n",
      "39970    True\n",
      "39971    True\n",
      "39972    True\n",
      "39973    True\n",
      "39974    True\n",
      "39975    True\n",
      "39976    True\n",
      "39977    True\n",
      "39978    True\n",
      "39979    True\n",
      "39980    True\n",
      "39981    True\n",
      "39982    True\n",
      "39983    True\n",
      "39984    True\n",
      "39985    True\n",
      "39986    True\n",
      "39987    True\n",
      "39988    True\n",
      "39989    True\n",
      "39990    True\n",
      "39991    True\n",
      "39992    True\n",
      "39993    True\n",
      "39994    True\n",
      "39995    True\n",
      "39996    True\n",
      "39997    True\n",
      "39998    True\n",
      "Length: 39999, dtype: bool\n",
      "972\n",
      "972\n",
      "967\n"
     ]
    }
   ],
   "source": [
    "#print(df.isnull().any()) # Has NaN in all that returned true\n",
    "\n",
    "#print(df['Relationship'].isna().sum)\n",
    "#print(df['Sex'].isna().sum())\n",
    "#print(df['NumYearsEducation'].isna().sum())\n",
    "#print(df['Age'].isna().sum())\n",
    "\n",
    "\n",
    "\n"
   ]
  }
 ],
 "metadata": {
  "kernelspec": {
   "display_name": "Python 3",
   "language": "python",
   "name": "python3"
  },
  "language_info": {
   "codemirror_mode": {
    "name": "ipython",
    "version": 3
   },
   "file_extension": ".py",
   "mimetype": "text/x-python",
   "name": "python",
   "nbconvert_exporter": "python",
   "pygments_lexer": "ipython3",
   "version": "3.7.1"
  }
 },
 "nbformat": 4,
 "nbformat_minor": 2
}
