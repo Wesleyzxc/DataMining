{
 "cells": [
  {
   "cell_type": "markdown",
   "metadata": {},
   "source": [
    "Import all packages and define functions used for data-preprocessing \n",
    "Reads the dataset"
   ]
  },
  {
   "cell_type": "code",
   "execution_count": 1,
   "metadata": {},
   "outputs": [],
   "source": [
    "#### Import all packages\n",
    "import pandas as pd\n",
    "import numpy as np\n",
    "import matplotlib.pyplot as plt\n",
    "import seaborn as sns\n",
    "\n",
    "from sklearn import tree, neighbors, svm\n",
    "from sklearn.model_selection import GridSearchCV, train_test_split, cross_val_score\n",
    "from sklearn.tree import DecisionTreeClassifier\n",
    "from sklearn.metrics import classification_report, accuracy_score, confusion_matrix\n",
    "from sklearn.preprocessing import StandardScaler\n",
    "\n",
    "import warnings\n",
    "# To ignore any future warnings\n",
    "warnings.filterwarnings(\"ignore\")\n",
    "\n",
    "# Repeated functions\n",
    "def getMode(df, attribute, condAtt, cond):\n",
    "    return (df[attribute][df[condAtt]==cond].mode()[0])\n",
    "\n",
    "def replaceWithMode(df, attribute, condAtt, cond):\n",
    "    mode = getMode(df, attribute, condAtt, cond)\n",
    "    df[attribute] = df[attribute].mask(((df[condAtt]==cond) & (df[attribute]=='?')), mode)\n",
    "    \n",
    "\n",
    "# read the dataset and set skipinitialspace to true to be able to .replace\n",
    "df = pd.read_csv('./HouseholderAtRisk(1).csv', skipinitialspace=True)\n",
    "\n"
   ]
  },
  {
   "cell_type": "markdown",
   "metadata": {},
   "source": [
    "# Task 1 \n",
    "**1)      What proportion of households who have high risk?**\n",
    "\n",
    "Properties with high risks are calculated with value_counts"
   ]
  },
  {
   "cell_type": "code",
   "execution_count": null,
   "metadata": {
    "scrolled": true
   },
   "outputs": [],
   "source": [
    "# Task 1 question 1\n",
    "# Show proportion of high risk\n",
    "risks = df['AtRisk'].value_counts()\n",
    "print(\"Proportion of high risk = \" + str(risks[0]/len(df)))"
   ]
  },
  {
   "cell_type": "markdown",
   "metadata": {},
   "source": [
    "# Task 1\n",
    "**2) Did you have to fix any data quality problems? Detail them?**\n"
   ]
  },
  {
   "cell_type": "code",
   "execution_count": 2,
   "metadata": {
    "scrolled": true
   },
   "outputs": [
    {
     "data": {
      "text/plain": [
       "0        0\n",
       "1        0\n",
       "2        0\n",
       "3        1\n",
       "4        0\n",
       "5        0\n",
       "6        0\n",
       "7        1\n",
       "8        0\n",
       "9        0\n",
       "10       1\n",
       "11       0\n",
       "12       0\n",
       "13       0\n",
       "14       1\n",
       "15       0\n",
       "16       0\n",
       "17       0\n",
       "18       0\n",
       "19       0\n",
       "20       0\n",
       "21       0\n",
       "22       0\n",
       "23       0\n",
       "24       0\n",
       "25       1\n",
       "26       0\n",
       "27       0\n",
       "28       0\n",
       "29       0\n",
       "        ..\n",
       "39969    0\n",
       "39970    0\n",
       "39971    0\n",
       "39972    0\n",
       "39973    0\n",
       "39974    0\n",
       "39975    0\n",
       "39976    0\n",
       "39977    0\n",
       "39978    0\n",
       "39979    0\n",
       "39980    0\n",
       "39981    1\n",
       "39982    1\n",
       "39983    0\n",
       "39984    0\n",
       "39985    0\n",
       "39986    0\n",
       "39987    0\n",
       "39988    0\n",
       "39989    0\n",
       "39990    1\n",
       "39991    0\n",
       "39992    1\n",
       "39993    0\n",
       "39994    0\n",
       "39995    0\n",
       "39996    0\n",
       "39997    0\n",
       "39998    0\n",
       "Name: CapitalAvg, Length: 39027, dtype: int32"
      ]
     },
     "execution_count": 2,
     "metadata": {},
     "output_type": "execute_result"
    }
   ],
   "source": [
    "# Drop rows with multiple columns containing NaN values\n",
    "df = df.dropna(subset=[\"Relationship\", \"Sex\", \"NumYearsEducation\"], how='all')\n",
    "\n",
    "# Replace inconsistency in CountryOfOrigin\n",
    "df['CountryOfOrigin'] = df['CountryOfOrigin'].replace(\"US\", \"USA\").replace(\"United-States\", \"USA\")\n",
    "\n",
    "# Removing Gender to use numerical binary for Sex where 0 = Male, 1 = Female\n",
    "df.drop('Gender', axis=1, inplace=True)\n",
    "\n",
    "# Replace -1 value in Age with mean value\n",
    "modeAge = df['Age'].mode()[0]\n",
    "df.loc[df['Age']==-1, 'Age'] = modeAge\n",
    "\n",
    "# Round off age\n",
    "df['Age'] = df['Age'].astype(int)\n",
    "\n",
    "# Drop race as there are 39954 NaN vs 45 labelled classes\n",
    "df.drop('Race', axis=1, inplace=True)\n",
    "\n",
    "\n",
    "# Sets upper boundary of 90 hours work week in NumWorkingHoursPerWeek and fills with mean value\n",
    "modeWorkHours = df['NumWorkingHoursPerWeek'].mode()[0]\n",
    "df['NumWorkingHoursPerWeek'] = df['NumWorkingHoursPerWeek'].where(df['NumWorkingHoursPerWeek'] <= 90, modeWorkHours)  \n",
    "# Round off hours                             \n",
    "df['NumWorkingHoursPerWeek'] = df['NumWorkingHoursPerWeek'].astype(int)\n",
    "\n",
    "# Replaces missing data with mean of column\n",
    "df['Weighting'] = df['Weighting'].fillna(df['Weighting'].mean())\n",
    "\n",
    "\n",
    "# Replaces missing data with unknown Occupation\n",
    "df['Occupation'] = df['Occupation'].fillna(\"?\")\n",
    "\n",
    "\n",
    "\n",
    "# Replaces unknowns with the mode of attribute\n",
    "# By WorkClass\n",
    "replaceWithMode(df,'Occupation','WorkClass','Federal-gov')\n",
    "replaceWithMode(df,'Occupation','WorkClass','Self-emp-inc')\n",
    "replaceWithMode(df,'Occupation','WorkClass','Private')\n",
    "replaceWithMode(df,'Occupation','WorkClass','Never-worked')\n",
    "\n",
    "# By education\n",
    "for values in df['Education'].unique():\n",
    "    replaceWithMode(df, 'Occupation', 'Education', values)\n",
    "    replaceWithMode(df, 'WorkClass', 'Education', values)\n",
    "\n",
    "\n",
    "# Never-worked adults will have occupation set as other services as a generic unknown\n",
    "df['Occupation'] = df['Occupation'].mask(((df['WorkClass']=='Never-worked') & (df['Occupation']=='?')), \"Other-service\")\n",
    "\n",
    "\n",
    "# Turning CapitalAvg into binary options \n",
    "df['CapitalAvg'][df['CapitalAvg'] > 0] = 1\n",
    "df['CapitalAvg'].astype(int)"
   ]
  },
  {
   "cell_type": "code",
   "execution_count": 3,
   "metadata": {},
   "outputs": [
    {
     "data": {
      "text/plain": [
       "array([0, 1, 2, 3, 4, 5, 6, 7], dtype=int64)"
      ]
     },
     "execution_count": 3,
     "metadata": {},
     "output_type": "execute_result"
    }
   ],
   "source": [
    "\n",
    "workclassMapping = {'Private':0, 'Local-gov': 1, 'Self-emp-not-inc':2, 'Federal-gov': 3, 'State-gov': 4,  'Self-emp-inc': 5\\\n",
    "                    ,'Without-pay':6, 'Never-worked':7}\n",
    "df['WorkClass'] = df['WorkClass'].map(workclassMapping)\n",
    "\n",
    "df['WorkClass'].unique()"
   ]
  },
  {
   "cell_type": "markdown",
   "metadata": {},
   "source": [
    "# Task 2 Predictive Modelling using Decision Trees\n",
    "\n",
    "**Dataset is split into target and input types**\n",
    "\n",
    "By dropping ID, target variable and other object types, a decision tree can be formed.\n",
    "\n",
    "Cross-fold validation with k=10 is done to the training set of 70%, having 7% for each fold. Then, it is fitted and ready for analysis\n"
   ]
  },
  {
   "cell_type": "code",
   "execution_count": 4,
   "metadata": {},
   "outputs": [
    {
     "data": {
      "text/plain": [
       "DecisionTreeClassifier(class_weight=None, criterion='gini', max_depth=None,\n",
       "            max_features=None, max_leaf_nodes=None,\n",
       "            min_impurity_decrease=0.0, min_impurity_split=None,\n",
       "            min_samples_leaf=1, min_samples_split=2,\n",
       "            min_weight_fraction_leaf=0.0, presort=False, random_state=10,\n",
       "            splitter='best')"
      ]
     },
     "execution_count": 4,
     "metadata": {},
     "output_type": "execute_result"
    }
   ],
   "source": [
    "# target/input split\n",
    "y = df['AtRisk']\n",
    "# Drop all object type (temporarily)\n",
    "X = df.drop(['ID', 'AtRisk', 'CapitalLoss', 'CapitalGain', 'Education', 'Marital-Status','Occupation', 'Relationship', 'CountryOfOrigin'], axis=1)\n",
    "\n",
    "X_mat = X.as_matrix()\n",
    "X_train, X_test, y_train, y_test = train_test_split(X_mat, y, test_size=0.3, stratify=y, random_state=10)\n",
    "\n",
    "# simple decision tree training\n",
    "clf = DecisionTreeClassifier(random_state=10)\n",
    "K_fold = cross_val_score(clf, X_train, y_train, cv=10)\n",
    "clf.fit(X_train, y_train)\n"
   ]
  },
  {
   "cell_type": "markdown",
   "metadata": {},
   "source": [
    "# Task 2 \n",
    "\n",
    "**1a) What is classification accuracy on training and test datasets?**\n",
    "\n",
    "**b) Which variable is used for the first split? What are the variables that are used for the second split?**"
   ]
  },
  {
   "cell_type": "code",
   "execution_count": 5,
   "metadata": {},
   "outputs": [
    {
     "name": "stdout",
     "output_type": "stream",
     "text": [
      "Train accuracy: 0.9993044878834468\n",
      "Test accuracy: 0.7517294388931591\n",
      "Weighting : 0.3749799532153776\n",
      "Age : 0.2268747593960812\n",
      "NumYearsEducation : 0.16307633901215637\n",
      "NumWorkingHoursPerWeek : 0.09401493604386964\n",
      "CapitalAvg : 0.05550375978750433\n",
      "WorkClass : 0.05205092769757479\n",
      "Sex : 0.033499324847436104\n"
     ]
    }
   ],
   "source": [
    "# Task 2 1a\n",
    "print(\"Train accuracy:\", clf.score(X_train, y_train))\n",
    "print(\"Test accuracy:\", clf.score(X_test, y_test))\n",
    "\n",
    "# Task 2 1b\n",
    "\n",
    "# grab feature importances from the model and feature name from the original X\n",
    "importances = clf.feature_importances_\n",
    "feature_names = X.columns\n",
    "\n",
    "# sort them out in descending order\n",
    "indices = np.argsort(importances)\n",
    "indices = np.flip(indices, axis=0)\n",
    "\n",
    "for i in indices:\n",
    "    print(feature_names[i], ':', importances[i])"
   ]
  },
  {
   "cell_type": "markdown",
   "metadata": {},
   "source": [
    "# Task 2\n",
    "\n",
    "**2) Build another decision tree tuned with GridSearchCV**\n",
    "\n",
    "With this, we have set the hyperparameters as the maximum depth of tree, and test against depths of 1 to 100, with cross fold validation of k=3. Then, the accuracy and scores are printed."
   ]
  },
  {
   "cell_type": "code",
   "execution_count": 6,
   "metadata": {},
   "outputs": [
    {
     "name": "stdout",
     "output_type": "stream",
     "text": [
      "Accuracy: 0.82 (+/- 0.00)\n",
      "Cross validation scores are: [0.8163848  0.81814188 0.81880079]\n",
      "The training set gave a best score of 0.8181052785709056\n"
     ]
    }
   ],
   "source": [
    "clf = DecisionTreeClassifier()\n",
    "tree_depth = np.arange(1,100)\n",
    "gs = GridSearchCV(clf, param_grid={'max_depth':tree_depth}, iid=True, cv=3)\n",
    "\n",
    "K_fold_prediction = cross_val_score(gs, X_train, y_train, cv=3)\n",
    "print(\"Accuracy: %0.2f (+/- %0.2f)\" % (K_fold_prediction.mean(), K_fold_prediction.std() * 2))\n",
    "print(\"Cross validation scores are:\", K_fold_prediction)\n",
    "\n",
    "gs.fit(X_train, y_train)\n",
    "print(\"The training set gave a best score of \" + str(gs.best_score_))\n",
    "    "
   ]
  },
  {
   "cell_type": "code",
   "execution_count": 7,
   "metadata": {},
   "outputs": [
    {
     "name": "stdout",
     "output_type": "stream",
     "text": [
      "Train accuracy: 0.8202284208214364\n",
      "Test accuracy: 0.8115979161328892\n"
     ]
    }
   ],
   "source": [
    "# Task 2 2a\n",
    "print(\"Train accuracy:\", gs.score(X_train, y_train))\n",
    "print(\"Test accuracy:\", gs.score(X_test, y_test))\n"
   ]
  }
 ],
 "metadata": {
  "kernelspec": {
   "display_name": "Python 3",
   "language": "python",
   "name": "python3"
  },
  "language_info": {
   "codemirror_mode": {
    "name": "ipython",
    "version": 3
   },
   "file_extension": ".py",
   "mimetype": "text/x-python",
   "name": "python",
   "nbconvert_exporter": "python",
   "pygments_lexer": "ipython3",
   "version": "3.7.3"
  }
 },
 "nbformat": 4,
 "nbformat_minor": 2
}
