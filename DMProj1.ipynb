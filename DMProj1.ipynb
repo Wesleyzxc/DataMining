{
 "cells": [
  {
   "cell_type": "markdown",
   "metadata": {},
   "source": [
    "Import all packages in a cell"
   ]
  },
  {
   "cell_type": "code",
   "execution_count": 1,
   "metadata": {},
   "outputs": [],
   "source": [
    "# Import all packages\n",
    "import pandas as pd\n",
    "import numpy as np\n",
    "import matplotlib.pyplot as plt\n",
    "import seaborn as sns\n",
    "import warnings\n",
    "\n",
    "\n"
   ]
  },
  {
   "cell_type": "code",
   "execution_count": 16,
   "metadata": {},
   "outputs": [
    {
     "name": "stdout",
     "output_type": "stream",
     "text": [
      "<class 'pandas.core.frame.DataFrame'>\n",
      "RangeIndex: 39999 entries, 0 to 39998\n",
      "Data columns (total 18 columns):\n",
      "ID                        39999 non-null int64\n",
      "Age                       39032 non-null float64\n",
      "WorkClass                 39027 non-null object\n",
      "Weighting                 38707 non-null float64\n",
      "Education                 39027 non-null object\n",
      "NumYearsEducation         39027 non-null float64\n",
      "Marital-Status            39027 non-null object\n",
      "Occupation                39013 non-null object\n",
      "Relationship              39027 non-null object\n",
      "Race                      45 non-null object\n",
      "Gender                    39027 non-null object\n",
      "CapitalLoss               39027 non-null float64\n",
      "CapitalGain               39027 non-null float64\n",
      "CapitalAvg                39027 non-null float64\n",
      "NumWorkingHoursPerWeek    39027 non-null float64\n",
      "Sex                       39027 non-null float64\n",
      "CountryOfOrigin           39969 non-null object\n",
      "AtRisk                    39999 non-null object\n",
      "dtypes: float64(8), int64(1), object(9)\n",
      "memory usage: 5.5+ MB\n",
      "None\n",
      "Proportion of high risk = 0.7624690617265432\n"
     ]
    }
   ],
   "source": [
    "# read the dataset\n",
    "df = pd.read_csv('./HouseholderAtRisk(1).csv', skipinitialspace=True)\n",
    "\n",
    "# show all columns \n",
    "print(df.info())\n",
    "\n",
    "# Task 1 question 1\n",
    "# Show proportion of high risk\n",
    "risks = df['AtRisk'].value_counts()\n",
    "print(\"Proportion of high risk = \" + str(risks[0]/len(df)))\n"
   ]
  },
  {
   "cell_type": "code",
   "execution_count": 17,
   "metadata": {},
   "outputs": [
    {
     "name": "stdout",
     "output_type": "stream",
     "text": [
      "['US' 'United-States' 'USA' '?' 'Peru' 'Guatemala' 'Mexico'\n",
      " 'Dominican-Republic' 'Ireland' 'Germany' 'Philippines' 'Thailand' 'Haiti'\n",
      " 'El-Salvador' 'Puerto-Rico' 'Vietnam' 'South' 'Columbia' 'Japan' 'India'\n",
      " 'Cambodia' nan 'Poland' 'Laos' 'England' 'Cuba' 'Taiwan' 'Italy' 'Canada'\n",
      " 'Portugal' 'China' 'Nicaragua' 'Honduras' 'Iran' 'Scotland' 'Jamaica'\n",
      " 'Ecuador' 'Yugoslavia' 'Hungary' 'Hong' 'Greece' 'Trinadad&Tobago'\n",
      " 'Outlying-US(Guam-USVI-etc)' 'France' 'Holand-Netherlands']\n"
     ]
    }
   ],
   "source": [
    "# Replace inconsistency in COO\n",
    "df['HouseholderAtRisk'].replace(\"US\", \"USA\").replace(\"United-States\", \"USA\")\n",
    "print(df['CountryOfOrigin'].unique())"
   ]
  },
  {
   "cell_type": "code",
   "execution_count": null,
   "metadata": {},
   "outputs": [],
   "source": []
  }
 ],
 "metadata": {
  "kernelspec": {
   "display_name": "Python 3",
   "language": "python",
   "name": "python3"
  },
  "language_info": {
   "codemirror_mode": {
    "name": "ipython",
    "version": 3
   },
   "file_extension": ".py",
   "mimetype": "text/x-python",
   "name": "python",
   "nbconvert_exporter": "python",
   "pygments_lexer": "ipython3",
   "version": "3.7.1"
  }
 },
 "nbformat": 4,
 "nbformat_minor": 2
}
