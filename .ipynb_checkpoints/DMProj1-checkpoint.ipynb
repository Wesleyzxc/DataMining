{
 "cells": [
  {
   "cell_type": "markdown",
   "metadata": {},
   "source": [
    "# Import all packages and define functions used for data-preprocessing \n",
    "# Reads the dataset"
   ]
  },
  {
   "cell_type": "code",
   "execution_count": 1,
   "metadata": {},
   "outputs": [],
   "source": [
    "#### Import all packages\n",
    "import pandas as pd\n",
    "import numpy as np\n",
    "import matplotlib.pyplot as plt\n",
    "import seaborn as sns\n",
    "import pydot\n",
    "\n",
    "## Models used in the assignment\n",
    "from sklearn.tree import DecisionTreeClassifier\n",
    "from sklearn.linear_model import LogisticRegression\n",
    "from sklearn.neural_network import MLPClassifier\n",
    "\n",
    "from sklearn import tree, neighbors, svm\n",
    "from sklearn.model_selection import GridSearchCV, train_test_split, cross_val_score, validation_curve\n",
    "from sklearn.preprocessing import StandardScaler\n",
    "from sklearn.metrics import classification_report, accuracy_score, confusion_matrix, roc_curve, auc\n",
    "from sklearn.feature_selection import RFE\n",
    "from io import StringIO\n",
    "from sklearn.tree import export_graphviz\n",
    "\n",
    "import warnings\n",
    "# To ignore any future warnings\n",
    "warnings.filterwarnings(\"ignore\")\n",
    "\n",
    "# Repeated functions\n",
    "def getMode(df, attribute, condAtt, cond):\n",
    "    return (df[attribute][df[condAtt]==cond].mode()[0])\n",
    "\n",
    "def replaceWithMode(df, attribute, condAtt, cond):\n",
    "    mode = getMode(df, attribute, condAtt, cond)\n",
    "    df[attribute] = df[attribute].mask(((df[condAtt]==cond) & (df[attribute]=='?')), mode)\n",
    "    \n",
    "\n",
    "# read the dataset and set skipinitialspace to true to be able to .replace\n",
    "df = pd.read_csv('./HouseholderAtRisk(1).csv', skipinitialspace=True)\n",
    "# df.info()\n",
    "\n",
    "rs = 10"
   ]
  },
  {
   "cell_type": "markdown",
   "metadata": {},
   "source": [
    "# Task 1 \n",
    "**1)      What proportion of households who have high risk?**\n",
    "\n",
    "Properties with high risks are calculated with value_counts"
   ]
  },
  {
   "cell_type": "code",
   "execution_count": 20,
   "metadata": {
    "scrolled": true
   },
   "outputs": [
    {
     "name": "stdout",
     "output_type": "stream",
     "text": [
      "Proportion of high risk = 0.7624690617265432\n"
     ]
    }
   ],
   "source": [
    "# Task 1 question 1\n",
    "# Show proportion of high risk\n",
    "risks = df['AtRisk'].value_counts()\n",
    "print(\"Proportion of high risk = \" + str(risks[0]/len(df)))"
   ]
  },
  {
   "cell_type": "markdown",
   "metadata": {},
   "source": [
    "# Task 1\n",
    "**2) Did you have to fix any data quality problems? Detail them**\n",
    "\n",
    "\n",
    "Pre-processing for tasks 2 and 3\n"
   ]
  },
  {
   "cell_type": "code",
   "execution_count": 2,
   "metadata": {
    "scrolled": true
   },
   "outputs": [],
   "source": [
    "def data_prep():\n",
    "    # read the pva97nk dataset\n",
    "    df = pd.read_csv('./HouseholderAtRisk(1).csv', skipinitialspace=True)\n",
    "    # Drop rows with multiple columns containing NaN values\n",
    "    df = df.dropna(subset=[\"Relationship\", \"Sex\", \"NumYearsEducation\"], how='all')\n",
    "\n",
    "    # Replace inconsistency in CountryOfOrigin\n",
    "    df['CountryOfOrigin'] = df['CountryOfOrigin'].replace(\"US\", \"USA\").replace(\"United-States\", \"USA\")\n",
    "\n",
    "    ##Replace ? to mode in CountryOfOrigin\n",
    "    modeCountry = df['CountryOfOrigin'].mode()[0]\n",
    "    df.loc[df['CountryOfOrigin']=='?', 'CountryOfOrigin'] = modeCountry\n",
    "\n",
    "    # Removing Gender to use numerical binary for Sex where 0 = Male, 1 = Female\n",
    "    df.drop('Gender', axis=1, inplace=True)\n",
    "\n",
    "    # Replace -1 value in Age with mean value\n",
    "    modeAge = df['Age'].mode()[0]\n",
    "    df.loc[df['Age']==-1, 'Age'] = modeAge\n",
    "\n",
    "    # Round off age\n",
    "    df['Age'] = df['Age'].astype(int)\n",
    "\n",
    "    # Drop race as there are 39954 NaN vs 45 labelled classes\n",
    "    df.drop('Race', axis=1, inplace=True)\n",
    "\n",
    "\n",
    "    # Sets upper boundary of 90 hours work week in NumWorkingHoursPerWeek and fills with mean value\n",
    "    modeWorkHours = df['NumWorkingHoursPerWeek'].mode()[0]\n",
    "    df['NumWorkingHoursPerWeek'] = df['NumWorkingHoursPerWeek'].where(df['NumWorkingHoursPerWeek'] <= 90, modeWorkHours)  \n",
    "    # Round off hours                             \n",
    "    df['NumWorkingHoursPerWeek'] = df['NumWorkingHoursPerWeek'].astype(int)\n",
    "\n",
    "    # Replaces missing data with mean of column\n",
    "    df['Weighting'] = df['Weighting'].fillna(df['Weighting'].mean())\n",
    "\n",
    "\n",
    "    # Replaces missing data with unknown Occupation\n",
    "    df['Occupation'] = df['Occupation'].fillna(\"?\")\n",
    "\n",
    "    # Replaces unknowns with the mode of attribute\n",
    "    # By WorkClass\n",
    "    replaceWithMode(df,'Occupation','WorkClass','Federal-gov')\n",
    "    replaceWithMode(df,'Occupation','WorkClass','Self-emp-inc')\n",
    "    replaceWithMode(df,'Occupation','WorkClass','Private')\n",
    "    replaceWithMode(df,'Occupation','WorkClass','Never-worked')\n",
    "\n",
    "    # By education\n",
    "    for values in df['Education'].unique():\n",
    "        replaceWithMode(df, 'Occupation', 'Education', values)\n",
    "        replaceWithMode(df, 'WorkClass', 'Education', values)\n",
    "\n",
    "\n",
    "    # Never-worked adults will have occupation set as other services as a generic unknown\n",
    "    df['Occupation'] = df['Occupation'].mask(((df['WorkClass']=='Never-worked') & (df['Occupation']=='?')), \"Other-service\")\n",
    "\n",
    "    ###Mappings\n",
    "\n",
    "    atriskclassMapping = {'High': 1, 'Low':0} #Binary\n",
    "\n",
    "    workclassMapping = {'Private':0, 'Local-gov': 1, 'Self-emp-not-inc':2, 'Federal-gov': 3, 'State-gov': 4,  'Self-emp-inc': 5\\\n",
    "                        ,'Without-pay':6, 'Never-worked':7}\n",
    "\n",
    "    educationclassMapping = {'Preschool':0,'1st-4th': 1, '5th-6th': 2, '7th-8th': 3, '9th': 4, '10th': 5,\n",
    "           '11th':6, '12th':7,'HS-grad':8, 'Some-college':9, 'Bachelors':10, 'Prof-school':11, 'Masters': 12, 'Doctorate': 13,\n",
    "                             'Assoc-acdm': 14, 'Assoc-voc': 15} #Ordinal?? not sure of order\n",
    "\n",
    "    maritalstatusclassMapping = {'Never-married': 0, 'Married-civ-spouse': 1, 'Widowed': 2, 'Divorced':3,\n",
    "           'Separated':4, 'Married-spouse-absent':5, 'Married-AF-spouse':6 }\n",
    "\n",
    "    occupationclassMapping = {'Machine-op-inspct': 0 , 'Farming-fishing': 1, 'Protective-serv': 2,\n",
    "           'Adm-clerical': 3, 'Other-service': 4, 'Craft-repair': 5, 'Prof-specialty': 6,\n",
    "           'Exec-managerial': 7, 'Tech-support': 8, 'Sales': 9, 'Priv-house-serv': 10,\n",
    "           'Transport-moving': 11, 'Handlers-cleaners': 12, 'Armed-Forces': 13}\n",
    "\n",
    "    relationshipclassMapping = {'Own-child': 0, 'Husband':1, 'Not-in-family':2, 'Unmarried':3, 'Wife':4,\n",
    "           'Other-relative':5}\n",
    "\n",
    "    # By continent \n",
    "    countryclassMapping = {'USA':1, 'Peru':1, 'Guatemala':1, 'Mexico':1, 'Dominican-Republic':1,\n",
    "           'Ireland':2, 'Germany':2, 'Philippines':3, 'Thailand':3, 'Haiti':1,\n",
    "           'El-Salvador':1, 'Puerto-Rico':1, 'Vietnam':3, 'South':3, 'Columbia':1,\n",
    "           'Japan':3, 'India':4, 'Cambodia':1, 'Poland':2, 'Laos':3, 'England':2, 'Cuba':1,\n",
    "           'Taiwan':2, 'Italy':2, 'Canada':1, 'Portugal':2, 'China':3, 'Nicaragua':1,\n",
    "           'Honduras':1, 'Iran':4, 'Scotland':2, 'Jamaica':1, 'Ecuador':1, 'Yugoslavia':1,\n",
    "           'Hungary':2, 'Hong':3, 'Greece':2, 'Trinadad&Tobago':1,\n",
    "           'Outlying-US(Guam-USVI-etc)':1, 'France':2, 'Holand-Netherlands':2}\n",
    "\n",
    "    df['AtRisk'] = df['AtRisk'].map(atriskclassMapping).astype(int)\n",
    "    df['WorkClass'] = df['WorkClass'].map(workclassMapping).astype(int)\n",
    "    df['Education'] = df['Education'].map(educationclassMapping).astype(int)\n",
    "    df['Marital-Status'] = df['Marital-Status'].map(maritalstatusclassMapping).astype(int)\n",
    "    df['Occupation'] = df['Occupation'].map(occupationclassMapping).astype(int)\n",
    "    df['Relationship'] = df['Relationship'].map(relationshipclassMapping).astype(int)\n",
    "    df['CountryOfOrigin'] = df['CountryOfOrigin'].map(countryclassMapping).astype(int)\n",
    "    df['NumYearsEducation']= df['NumYearsEducation'].astype(int)\n",
    "    \n",
    "    return df\n"
   ]
  },
  {
   "cell_type": "markdown",
   "metadata": {},
   "source": [
    "## Task 2 Pre-processing\n",
    "**Specific pre-processing for Decision Tree Model**\n"
   ]
  },
  {
   "cell_type": "code",
   "execution_count": 3,
   "metadata": {},
   "outputs": [
    {
     "name": "stdout",
     "output_type": "stream",
     "text": [
      "The range for weightings are: 372135.0 744270.0 1116405.0\n",
      "\n",
      "The range for age are: 22.5 45.0 67.5\n",
      "\n",
      "The range for NumYearsEducation are: 4.0 8.0 12.0\n"
     ]
    }
   ],
   "source": [
    "dfDT = data_prep()\n",
    "# Turning CapitalAvg into binary options \n",
    "dfDT['CapitalAvg'][dfDT['CapitalAvg'] > 0] = 1\n",
    "dfDT['CapitalAvg'] = dfDT['CapitalAvg'].astype(int)\n",
    "\n",
    "# Converting weight from 1 to 4 based on equal intervals (equi-width)\n",
    "weightMax = dfDT['Weighting'].max()\n",
    "print(\"The range for weightings are:\", weightMax/4, weightMax/2, weightMax*3/4)\n",
    "bins = [0, weightMax/4, weightMax/2, weightMax*3/4,  weightMax+1]\n",
    "labels =[1,2,3,4]\n",
    "dfDT['Weighting'] = pd.cut(dfDT['Weighting'], bins,labels=labels)\n",
    "\n",
    "# Converting age from 1 to 4 based on equal intervals (equi-width)\n",
    "dfDT['Age'].max()\n",
    "ageMax = dfDT['Age'].max()\n",
    "print(\"\\nThe range for age are:\", ageMax/4, ageMax/2, ageMax*3/4)\n",
    "bins = [0, ageMax/4, ageMax/2, ageMax*3/4,  ageMax+1]\n",
    "labels =[1,2,3,4]\n",
    "dfDT['Age'] = pd.cut(dfDT['Age'], bins,labels=labels)\n",
    "\n",
    "# Converting education years from 1 to 4 based on equal intervals (equi-width)\n",
    "dfDT['NumYearsEducation'].max()\n",
    "eduMax = dfDT['NumYearsEducation'].max()\n",
    "print(\"\\nThe range for NumYearsEducation are:\", eduMax/4, eduMax/2, eduMax*3/4)\n",
    "bins = [0, eduMax/4, eduMax/2, eduMax*3/4,  eduMax+1]\n",
    "labels =[1,2,3,4]\n",
    "dfDT['NumYearsEducation'] = pd.cut(dfDT['NumYearsEducation'], bins,labels=labels)\n",
    "\n",
    "\n",
    "## Preparation of dataset\n",
    "# target/input split\n",
    "y = dfDT['AtRisk']\n",
    "# Drop all object type\n",
    "X = dfDT.drop(['ID', 'CapitalLoss', 'CapitalGain', 'AtRisk'], axis=1)\n",
    "\n",
    "X_mat = X.as_matrix()\n",
    "X_train, X_test, y_train, y_test = train_test_split(X_mat, y, test_size=0.3, stratify=y, random_state=rs)"
   ]
  },
  {
   "cell_type": "markdown",
   "metadata": {},
   "source": [
    "# Task 2 Predictive Modelling using Decision Trees\n",
    "\n",
    "**Dataset is split into target and input types**\n",
    "\n",
    "By dropping ID, target variable and other object types, a decision tree can be formed.\n",
    "\n",
    "Cross-fold validation with k=10 is done to the training set of 70%, having 7% for each fold. Then, it is fitted and ready for analysis\n"
   ]
  },
  {
   "cell_type": "code",
   "execution_count": 4,
   "metadata": {},
   "outputs": [
    {
     "data": {
      "text/plain": [
       "DecisionTreeClassifier(class_weight=None, criterion='gini', max_depth=None,\n",
       "            max_features=None, max_leaf_nodes=None,\n",
       "            min_impurity_decrease=0.0, min_impurity_split=None,\n",
       "            min_samples_leaf=1, min_samples_split=2,\n",
       "            min_weight_fraction_leaf=0.0, presort=False, random_state=10,\n",
       "            splitter='best')"
      ]
     },
     "execution_count": 4,
     "metadata": {},
     "output_type": "execute_result"
    }
   ],
   "source": [
    "# simple decision tree training\n",
    "dt = DecisionTreeClassifier(random_state=rs)\n",
    "K_fold = cross_val_score(dt, X_train, y_train, cv=10)\n",
    "dt.fit(X_train, y_train)\n"
   ]
  },
  {
   "cell_type": "markdown",
   "metadata": {},
   "source": [
    "# Task 2 \n",
    "\n",
    "**1a) What is classification accuracy on training and test datasets?**\n",
    "\n",
    "**b) Which variable is used for the first split? What are the variables that are used for the second split?**"
   ]
  },
  {
   "cell_type": "code",
   "execution_count": 5,
   "metadata": {},
   "outputs": [
    {
     "name": "stdout",
     "output_type": "stream",
     "text": [
      "---Task 2 1a: Training and Test accuracy---\n",
      "Train accuracy: 0.9230910022695659\n",
      "Test accuracy: 0.8007515586301136\n",
      "\n",
      "\n",
      "---Task 2 1b and 1c: Variables used for split---\n",
      "Marital-Status : 0.27062482243689434\n",
      "NumYearsEducation : 0.1576102469549165\n",
      "WorkClass : 0.06716255151024704\n",
      "Education : 0.05845210233198633\n",
      "Age : 0.042880059452403835\n",
      "Weighting : 0.017172064278001335\n",
      "\n",
      "\n",
      "---Task 2 1d---\n",
      "Overfitting was observed as there was a significantdifference between the test and training accuracy, showing that the model was picking outspecific features of the training set which resulted in a better result.\n"
     ]
    }
   ],
   "source": [
    "# Task 2 1a\n",
    "print(\"---Task 2 1a: Training and Test accuracy---\")\n",
    "print(\"Train accuracy:\", dt.score(X_train, y_train))\n",
    "print(\"Test accuracy:\", dt.score(X_test, y_test))\n",
    "\n",
    "# Task 2 1b\n",
    "# grab feature importances from the model and feature name from the original X\n",
    "importances = dt.feature_importances_[0:6]\n",
    "feature_names = X.columns\n",
    "\n",
    "# sort them out in descending order\n",
    "indices = np.argsort(importances)\n",
    "indices = np.flip(indices, axis=0)\n",
    "\n",
    "print(\"\\n\\n---Task 2 1b and 1c: Variables used for split---\")\n",
    "\n",
    "for i in indices:\n",
    "    print(feature_names[i], ':', importances[i])\n",
    "    \n",
    "print(\"\\n\\n---Task 2 1d---\\nOverfitting was observed as there was a significant\\\n",
    "difference between the test and training accuracy, showing that the model was picking out\\\n",
    "specific features of the training set which resulted in a better result.\")"
   ]
  },
  {
   "cell_type": "markdown",
   "metadata": {},
   "source": [
    "# Task 2\n",
    "\n",
    "**2) Build another decision tree tuned with GridSearchCV**\n",
    "\n",
    "With this, we have set the hyperparameters as the maximum depth of tree, and test against depths of 1 to 100, with cross fold validation of k=5. Then, the accuracy and scores are printed.\n"
   ]
  },
  {
   "cell_type": "code",
   "execution_count": 6,
   "metadata": {},
   "outputs": [
    {
     "name": "stdout",
     "output_type": "stream",
     "text": [
      "---Task 2 2a: Classification Accuracy---\n",
      "\n",
      "Train accuracy: 0.8379456768431071\n",
      "Test accuracy: 0.8370484242890085\n",
      "\n",
      "\n",
      "---Task 2 2c-e: Optimal variables---\n",
      "{'criterion': 'entropy', 'max_depth': 10, 'min_samples_leaf': 200}\n",
      "DecisionTreeClassifier(class_weight=None, criterion='entropy', max_depth=10,\n",
      "            max_features=None, max_leaf_nodes=None,\n",
      "            min_impurity_decrease=0.0, min_impurity_split=None,\n",
      "            min_samples_leaf=200, min_samples_split=2,\n",
      "            min_weight_fraction_leaf=0.0, presort=False, random_state=10,\n",
      "            splitter='best')\n",
      "Marital-Status : 0.5302760424703712\n",
      "NumYearsEducation : 0.2429143818986392\n",
      "Education : 0.020436176490068663\n",
      "Age : 0.011204951144736101\n",
      "WorkClass : 0.0015834417842989009\n",
      "Weighting : 0.0\n"
     ]
    }
   ],
   "source": [
    "params= {'criterion': ['gini', 'entropy'],\n",
    "          'max_depth': range(2, 20),\n",
    "          'min_samples_leaf': range(200, 600, 100)}\n",
    "tree_depth = np.arange(1,100)\n",
    "\n",
    "gsDT = GridSearchCV(dt, param_grid=params, iid=True, cv=5)\n",
    "\n",
    "#K_fold_prediction = cross_val_score(gs, X_train, y_train, cv=3)\n",
    "#print(\"Accuracy: %0.2f (+/- %0.2f)\" % (K_fold_prediction.mean(), K_fold_prediction.std() * 2))\n",
    "#print(\"Cross validation scores are:\", K_fold_prediction)\n",
    "\n",
    "gsDT.fit(X_train, y_train)\n",
    "    \n",
    "# Task 2 2a\n",
    "print(\"---Task 2 2a: Classification Accuracy---\\n\")\n",
    "print(\"Train accuracy:\", gsDT.score(X_train, y_train))\n",
    "print(\"Test accuracy:\", gsDT.score(X_test, y_test))\n",
    "\n",
    "# Best hyperparameter\n",
    "print(\"\\n\\n---Task 2 2c-e: Optimal variables---\")\n",
    "print (str(gsDT.best_params_))\n",
    "print (str(gsDT.best_estimator_))\n",
    "      \n",
    "# grab feature importances from the model and feature name from the original X\n",
    "importances = gsDT.best_estimator_.feature_importances_[0:6]\n",
    "feature_names = X.columns\n",
    "\n",
    "# sort them out in descending order\n",
    "indices = np.argsort(importances)\n",
    "indices = np.flip(indices, axis=0)\n",
    "\n",
    "for i in indices:\n",
    "    print(feature_names[i], ':', importances[i])"
   ]
  },
  {
   "cell_type": "markdown",
   "metadata": {},
   "source": [
    "# Test for overfitting\n",
    "**A validation curve is also drawn to determine if the model is overfitting**\n",
    "\n",
    "Task 2\n",
    "Q2 f) Slight overfitting"
   ]
  },
  {
   "cell_type": "code",
   "execution_count": 26,
   "metadata": {},
   "outputs": [
    {
     "data": {
      "image/png": "[encoded data removed]",
      "text/plain": [
       "<Figure size 432x288 with 1 Axes>"
      ]
     },
     "metadata": {
      "needs_background": "light"
     },
     "output_type": "display_data"
    }
   ],
   "source": [
    "train_scores, test_scores = validation_curve(\n",
    "    DecisionTreeClassifier(random_state=5), X, y, param_name=\"max_depth\", param_range=tree_depth,\n",
    "    cv=5, scoring=\"accuracy\", n_jobs=1)\n",
    "\n",
    "train_scores_mean = np.mean(train_scores, axis=1)\n",
    "train_scores_std = np.std(train_scores, axis=1)\n",
    "test_scores_mean = np.mean(test_scores, axis=1)\n",
    "test_scores_std = np.std(test_scores, axis=1)\n",
    "\n",
    "plt.title(\"Validation Curve with DT\")\n",
    "plt.xlabel(\"max_depth\")\n",
    "plt.ylabel(\"Score\")\n",
    "plt.ylim(0.0, 1.1)\n",
    "lw = 2\n",
    "plt.semilogx(tree_depth, train_scores_mean, label=\"Training score\",\n",
    "             color=\"darkorange\", lw=lw)\n",
    "plt.fill_between(tree_depth, train_scores_mean - train_scores_std,\n",
    "                 train_scores_mean + train_scores_std, alpha=0.2,\n",
    "                 color=\"darkorange\", lw=lw)\n",
    "plt.semilogx(tree_depth, test_scores_mean, label=\"Cross-validation score\",\n",
    "             color=\"navy\", lw=lw)\n",
    "plt.fill_between(tree_depth, test_scores_mean - test_scores_std,\n",
    "                 test_scores_mean + test_scores_std, alpha=0.2,\n",
    "                 color=\"navy\", lw=lw)\n",
    "plt.legend(loc=\"best\")\n",
    "plt.show()"
   ]
  },
  {
   "cell_type": "markdown",
   "metadata": {},
   "source": [
    "# Displaying Decision Tree\n",
    "**This is used in Task 2 question 4 to visualise characteristics and households to target**"
   ]
  },
  {
   "cell_type": "code",
   "execution_count": 27,
   "metadata": {},
   "outputs": [],
   "source": [
    "def visualize_decision_tree(dm_model, feature_names, save_name):    \n",
    "    dotfile = StringIO()\n",
    "    export_graphviz(dm_model, out_file=dotfile, feature_names=feature_names)\n",
    "    graph = pydot.graph_from_dot_data(dotfile.getvalue())\n",
    "    graph.write_png(save_name) # saved in the following file\n",
    "\n",
    "visualize_decision_tree(gsDT.best_estimator_, X.columns, \"optimal_tree.png\")"
   ]
  },
  {
   "cell_type": "markdown",
   "metadata": {},
   "source": [
    "# Task 3 Logistic Regression\n",
    "## Scaling attributes\n",
    "**First, we plot continuous attributes and see if we can spot any skewness**"
   ]
  },
  {
   "cell_type": "code",
   "execution_count": 7,
   "metadata": {
    "scrolled": true
   },
   "outputs": [
    {
     "data": {
      "image/png": "[encoded data removed]",
      "text/plain": [
       "<Figure size 720x720 with 8 Axes>"
      ]
     },
     "metadata": {
      "needs_background": "light"
     },
     "output_type": "display_data"
    }
   ],
   "source": [
    "dfLR = data_prep()\n",
    "# copy the dataframe\n",
    "\n",
    "## Preparation of dataset\n",
    "# Drop all object type\n",
    "X_log = dfLR.drop(['ID', 'CapitalLoss', 'CapitalGain', 'AtRisk'], axis=1)\n",
    "\n",
    "#age weighting numyearseducation\n",
    "#capitalavg numworkinghrspreweek \n",
    "# are continuous so the rest are removed\n",
    "\n",
    "cols_to_remove = ['Sex', 'CountryOfOrigin', 'Marital-Status', 'Occupation', 'Relationship', 'WorkClass', 'Education']\n",
    "# get columns from X\n",
    "cols = X_log.columns\n",
    "cols = [col for col in cols]\n",
    "for i in cols_to_remove:\n",
    "    cols.remove(i)\n",
    "\n",
    "# Graph for the continuous attributes\n",
    "fig, ax = plt.subplots(2,4, figsize=(10,10), sharex=False)\n",
    "for i, col in enumerate(cols):\n",
    "    sns.distplot(X_log[col].dropna(), hist=False, ax=ax[int(i/4)][i%4])\n",
    "    \n",
    "plt.show()"
   ]
  },
  {
   "cell_type": "markdown",
   "metadata": {},
   "source": [
    "## Additional steps taken\n",
    "\n",
    "**To prevent skewness, certain continuous variables are transformed with a log function.\n",
    "Then, the whole dataset has to be transformed to ensure gradient descents update weights on similar speed and allow us to compare equally to figure out the important features**"
   ]
  },
  {
   "cell_type": "code",
   "execution_count": 8,
   "metadata": {
    "scrolled": true
   },
   "outputs": [
    {
     "data": {
      "image/png": "[encoded data removed]",
      "text/plain": [
       "<Figure size 720x720 with 6 Axes>"
      ]
     },
     "metadata": {
      "needs_background": "light"
     },
     "output_type": "display_data"
    },
    {
     "name": "stdout",
     "output_type": "stream",
     "text": [
      "Model without GridSearchCV:\n",
      "Train accuracy: 0.8164580130317007\n",
      "Test accuracy: 0.8169783926893842\n",
      "\n",
      "\n",
      "---Task 3 Question 2a---\n",
      "Variables used are: Index(['Age', 'WorkClass', 'Weighting', 'Education', 'NumYearsEducation',\n",
      "       'Marital-Status', 'Occupation', 'Relationship', 'CapitalAvg',\n",
      "       'NumWorkingHoursPerWeek', 'Sex', 'CountryOfOrigin'],\n",
      "      dtype='object')\n",
      "\n",
      "\n",
      "---Task 3 Question 2b---\n",
      "NumYearsEducation : -0.9453408223967985\n",
      "Age : -0.7568223544543005\n",
      "CapitalAvg : -0.5421807082146465\n",
      "Sex : 0.497611230912814\n",
      "NumWorkingHoursPerWeek : -0.41774538697278496\n",
      "Marital-Status : 0.2026732037526322\n",
      "\n",
      "\n",
      "---Task 3 Question 2c---\n",
      "No sign of overfitting as the test accuracy is higher than train accuracy\n",
      "\n",
      "\n",
      "---Task 3 Question 2d---\n",
      "Optimal parameters are:\n",
      " {'C': 0.1}\n",
      "\n",
      "\n",
      "Model with GridSearchCV\n",
      "---Task 3 Question 2e---\n",
      "Train accuracy: 0.8164580130317007\n",
      "Test accuracy: 0.8169783926893842\n"
     ]
    }
   ],
   "source": [
    "# list columns to be transformed\n",
    "columns_to_transform = ['Age', 'NumYearsEducation', 'CapitalAvg', 'Weighting']\n",
    "\n",
    "# transform the columns with np.log\n",
    "for col in columns_to_transform:\n",
    "    X_log[col] = X_log[col].apply(lambda x: x+1)\n",
    "    X_log[col] = X_log[col].apply(np.log)\n",
    "\n",
    "fig, ax = plt.subplots(2,3, figsize=(10,10), sharex=False)\n",
    "for i, col in enumerate(columns_to_transform):\n",
    "    sns.distplot(X_log[col].dropna(), hist=False, ax=ax[int(i/3)][i%3])\n",
    "    \n",
    "plt.show()\n",
    "\n",
    "# start by splitting them again\n",
    "X_mat_log = X_log.as_matrix()\n",
    "X_train_log, X_test_log, y_train_log, y_test_log = train_test_split(X_mat_log, y, test_size=0.3, stratify=y, random_state=rs)\n",
    "\n",
    "# scale\n",
    "scaler_log = StandardScaler()\n",
    "X_train_log = scaler_log.fit_transform(X_train_log)\n",
    "X_test_log = scaler_log.transform(X_test_log)\n",
    "\n",
    "# Without gridsearch\n",
    "logreg = LogisticRegression(random_state=rs)\n",
    "logreg.fit(X_train_log, y_train_log)\n",
    "print(\"Model without GridSearchCV:\")\n",
    "print(\"Train accuracy:\", logreg.score(X_train_log, y_train_log))\n",
    "print(\"Test accuracy:\", logreg.score(X_test_log, y_test_log))\n",
    "\n",
    "\n",
    "# With gridsearch\n",
    "params = {'C': [pow(10, x) for x in range(-10, 5)]}\n",
    "cv = GridSearchCV(param_grid=params, estimator=LogisticRegression(random_state=rs), cv=10, n_jobs=-1)\n",
    "cv.fit(X_train_log, y_train_log)\n",
    "\n",
    "print(\"\\n\\n---Task 3 Question 2a---\")\n",
    "print(\"Variables used are:\", X.columns)\n",
    "\n",
    "\n",
    "print(\"\\n\\n---Task 3 Question 2b---\")\n",
    "# best features\n",
    "coef = cv.best_estimator_.coef_[0]\n",
    "feature_names = X_log.columns\n",
    "\n",
    "# sort them out in descending order\n",
    "indices = np.argsort(np.absolute(coef))\n",
    "indices = np.flip(indices, axis=0)\n",
    "\n",
    "# limit to 6 features\n",
    "indices = indices[:6]\n",
    "\n",
    "for i in indices:\n",
    "    print(feature_names[i], ':', coef[i])\n",
    "    \n",
    "print(\"\\n\\n---Task 3 Question 2c---\")\n",
    "print(\"No sign of overfitting as the test accuracy is higher than train accuracy\")\n",
    "\n",
    "# print parameters of the best model\n",
    "print(\"\\n\\n---Task 3 Question 2d---\")\n",
    "print(\"Optimal parameters are:\\n\", cv.best_params_)\n",
    "\n",
    "# test the best model\n",
    "print(\"\\n\\nModel with GridSearchCV\")\n",
    "print(\"---Task 3 Question 2e---\")\n",
    "print(\"Train accuracy:\", cv.score(X_train_log, y_train_log))\n",
    "print(\"Test accuracy:\", cv.score(X_test_log, y_test_log))\n"
   ]
  },
  {
   "cell_type": "markdown",
   "metadata": {},
   "source": [
    "# Task 3\n",
    "## Question 3 RFE model"
   ]
  },
  {
   "cell_type": "code",
   "execution_count": 9,
   "metadata": {},
   "outputs": [
    {
     "name": "stdout",
     "output_type": "stream",
     "text": [
      "--Task 3 Model with RFE--\n",
      "\n",
      "---Question 3a---\n",
      "                          0\n",
      "0                      Age\n",
      "1                WorkClass\n",
      "2                Weighting\n",
      "3                Education\n",
      "4        NumYearsEducation\n",
      "5           Marital-Status\n",
      "6               Occupation\n",
      "7             Relationship\n",
      "8               CapitalAvg\n",
      "9   NumWorkingHoursPerWeek\n",
      "10                     Sex\n",
      "11         CountryOfOrigin\n",
      "\n",
      "--Question 3b--\n",
      "                   0         0\n",
      "0                Age -0.705172\n",
      "1          WorkClass -0.968441\n",
      "2          Weighting -0.545519\n",
      "3          Education -0.421771\n",
      "4  NumYearsEducation  0.527231\n",
      "\n",
      "--Question 3c--\n",
      "No signs of overfitting as test accuracy is higher than train accuracy.\n",
      "\n",
      "--Question 3d--\n",
      "Train accuracy: 0.8157991068160187\n",
      "Test accuracy: 0.8174054146383124\n"
     ]
    }
   ],
   "source": [
    "#from sklearn.svm import SVR\n",
    "#Same estimator - linear regression\n",
    "estimator2 = LogisticRegression(random_state=rs)\n",
    "selector2 = RFE(estimator2, 5, step=1)\n",
    "selector2 = selector2.fit(X_train_log, y_train_log)\n",
    "print(\"--Task 3 Model with RFE--\\n\")\n",
    "\n",
    "print(\"---Question 3a---\\n\",pd.DataFrame(feature_names))\n",
    "\n",
    "print(\"\\n--Question 3b--\")\n",
    "# best 5 features OF RFE MODEL\n",
    "coef = selector2.estimator_.coef_\n",
    "feature_names = X_log.columns\n",
    "coefficients = pd.concat([pd.DataFrame(feature_names),pd.DataFrame(np.transpose(coef))], axis = 1)\n",
    "# best 5 features value OF RFE MODEL\n",
    "print (coefficients[0:5])\n",
    "\n",
    "print(\"\\n--Question 3c--\")\n",
    "print(\"No signs of overfitting as test accuracy is higher than train accuracy.\")\n",
    "\n",
    "print(\"\\n--Question 3d--\")\n",
    "print(\"Train accuracy:\", selector2.score(X_train_log, y_train_log))\n",
    "print(\"Test accuracy:\", selector2.score(X_test_log, y_test_log))"
   ]
  },
  {
   "cell_type": "markdown",
   "metadata": {},
   "source": [
    "# Task 4 Neural Network"
   ]
  },
  {
   "cell_type": "code",
   "execution_count": 10,
   "metadata": {},
   "outputs": [],
   "source": [
    "dfNN = data_prep()\n",
    "# copy the dataframe\n",
    "\n",
    "## Preparation of dataset\n",
    "# Drop all object type\n",
    "X_NN = dfNN.drop(['ID', 'CapitalLoss', 'CapitalGain', 'AtRisk'], axis=1)\n",
    "\n",
    "# list columns to be transformed\n",
    "columns_to_transform = ['Age', 'NumYearsEducation', 'CapitalAvg', 'Weighting']\n",
    "\n",
    "# transform the columns with np.log\n",
    "for col in columns_to_transform:\n",
    "    X_NN[col] = X_NN[col].apply(lambda x: x+1)\n",
    "    X_NN[col] = X_NN[col].apply(np.log)\n",
    "\n",
    "X_matNN = X_NN.as_matrix()\n",
    "X_train_NN, X_test_NN, y_train_NN, y_test_NN = train_test_split(X_matNN, y, test_size=0.3, stratify=y, random_state=rs)\n",
    "\n",
    "scaler = StandardScaler()\n",
    "X_train_NN = scaler.fit_transform(X_train_NN)\n",
    "X_test_NN = scaler.transform(X_test_NN)\n"
   ]
  },
  {
   "cell_type": "code",
   "execution_count": 11,
   "metadata": {},
   "outputs": [
    {
     "name": "stdout",
     "output_type": "stream",
     "text": [
      "---Task 4 Question 1a HAVE TO EXPLAIN---\n",
      "MLPClassifier(activation='relu', alpha=0.001, batch_size='auto', beta_1=0.9,\n",
      "       beta_2=0.999, early_stopping=True, epsilon=1e-08,\n",
      "       hidden_layer_sizes=8, learning_rate='constant',\n",
      "       learning_rate_init=0.001, max_iter=200, momentum=0.9,\n",
      "       n_iter_no_change=10, nesterovs_momentum=True, power_t=0.5,\n",
      "       random_state=10, shuffle=True, solver='adam', tol=0.0001,\n",
      "       validation_fraction=0.1, verbose=False, warm_start=False)\n",
      "\n",
      "---Task 4 Question 1b---\n",
      "47\n",
      "\n",
      "---Task 4 Question 1c---\n",
      "Slight overfitting as test accuracy is slightly lower than train accuracy.\n",
      "\n",
      "---Task 4 Question 1d---\n",
      "Yes. It converged and showed no improvements on 10 consecutive epochs therefore it was early stopped at epoch=32\n"
     ]
    },
    {
     "data": {
      "image/png": "[encoded data removed]",
      "text/plain": [
       "<Figure size 432x288 with 1 Axes>"
      ]
     },
     "metadata": {
      "needs_background": "light"
     },
     "output_type": "display_data"
    },
    {
     "name": "stdout",
     "output_type": "stream",
     "text": [
      "\n",
      "---Task 4 Question 1e---\n",
      "Train accuracy: 0.26652756424335605\n",
      "Test accuracy: 0.26552224784353917\n"
     ]
    }
   ],
   "source": [
    "mlp = MLPClassifier(random_state=rs, alpha = 0.001, hidden_layer_sizes=8, early_stopping=True)\n",
    "mlp.fit(X_train_NN, y_train_NN)\n",
    "\n",
    "print(\"---Task 4 Question 1a HAVE TO EXPLAIN---\")\n",
    "print(mlp)\n",
    "\n",
    "print(\"\\n---Task 4 Question 1b---\")\n",
    "print(mlp.n_iter_)\n",
    "\n",
    "print(\"\\n---Task 4 Question 1c---\")\n",
    "print(\"Slight overfitting as test accuracy is slightly lower than train accuracy.\")\n",
    "\n",
    "print(\"\\n---Task 4 Question 1d---\")\n",
    "print(\"Yes. It converged and showed no improvements on 10 consecutive epochs therefore it was early stopped at epoch=32\")\n",
    "plt.ylabel('cost')\n",
    "plt.xlabel('iterations')\n",
    "plt.title(\"Learning rate =\" + str(0.001))\n",
    "plt.plot(mlp.loss_curve_)\n",
    "plt.show()\n",
    "\n",
    "print(\"\\n---Task 4 Question 1e---\")\n",
    "print(\"Train accuracy:\", mlp.score(X_train, y_train))\n",
    "print(\"Test accuracy:\", mlp.score(X_test, y_test))"
   ]
  },
  {
   "cell_type": "code",
   "execution_count": 12,
   "metadata": {},
   "outputs": [
    {
     "name": "stdout",
     "output_type": "stream",
     "text": [
      "\n",
      "---Task 4 Question 2a---\n",
      "{'alpha': 0.001, 'hidden_layer_sizes': (15,), 'max_iter': 100}\n",
      "MLPClassifier(activation='relu', alpha=0.001, batch_size='auto', beta_1=0.9,\n",
      "       beta_2=0.999, early_stopping=True, epsilon=1e-08,\n",
      "       hidden_layer_sizes=(15,), learning_rate='constant',\n",
      "       learning_rate_init=0.001, max_iter=100, momentum=0.9,\n",
      "       n_iter_no_change=10, nesterovs_momentum=True, power_t=0.5,\n",
      "       random_state=10, shuffle=True, solver='adam', tol=0.0001,\n",
      "       validation_fraction=0.1, verbose=False, warm_start=False)\n",
      "\n",
      "---Task 4 Question 2b---\n",
      "54\n",
      "\n",
      "---Task 4 Question 2c---\n",
      "Insignificant overfitting as the difference etween test and train accuracy are very similar\n",
      "\n",
      "---Task 4 Question 2d---\n"
     ]
    },
    {
     "data": {
      "image/png": "[encoded data removed]",
      "text/plain": [
       "<Figure size 432x288 with 1 Axes>"
      ]
     },
     "metadata": {
      "needs_background": "light"
     },
     "output_type": "display_data"
    },
    {
     "name": "stdout",
     "output_type": "stream",
     "text": [
      "\n",
      "---Task 4 Question 2e---\n",
      "Train accuracy: 0.8469141225565561\n",
      "Test accuracy: 0.8443077974207874\n"
     ]
    }
   ],
   "source": [
    "params = {'hidden_layer_sizes': [(13,), (15,), (17,), (19,)], 'alpha': [0.001, 0.0001, 0.00001], 'max_iter': np.arange(100,250,50)}\n",
    "mlpGS = GridSearchCV(param_grid=params, estimator=MLPClassifier(random_state=rs, early_stopping=True))\n",
    "mlpGS.fit(X_train_NN, y_train_NN)\n",
    "\n",
    "print(\"\\n---Task 4 Question 2a---\")\n",
    "print(mlpGS.best_params_)\n",
    "print(mlpGS.best_estimator_)\n",
    "\n",
    "print(\"\\n---Task 4 Question 2b---\")\n",
    "print(mlpGS.best_estimator_.n_iter_)\n",
    "\n",
    "print(\"\\n---Task 4 Question 2c---\")\n",
    "print(\"Insignificant overfitting as the difference etween test and train accuracy are very similar\")\n",
    "\n",
    "print(\"\\n---Task 4 Question 2d---\")\n",
    "plt.plot(mlpGS.best_estimator_.loss_curve_)\n",
    "plt.ylabel('cost')\n",
    "plt.xlabel('iterations')\n",
    "plt.title(\"Learning rate =\" + str(0.001))\n",
    "plt.show()\n",
    "\n",
    "print(\"\\n---Task 4 Question 2e---\")\n",
    "print(\"Train accuracy:\", mlpGS.score(X_train_NN, y_train_NN))\n",
    "print(\"Test accuracy:\", mlpGS.score(X_test_NN, y_test_NN))\n",
    "\n"
   ]
  },
  {
   "cell_type": "markdown",
   "metadata": {},
   "source": [
    "# Task 4 question 3\n",
    "## RFE Model on NN"
   ]
  },
  {
   "cell_type": "code",
   "execution_count": 36,
   "metadata": {},
   "outputs": [
    {
     "name": "stdout",
     "output_type": "stream",
     "text": [
      "---Task 4 Question 3a HAVE TO EXPLAIN---\n",
      "Inputs are Age, WorkClass, Weighting, Education, NumYearsEducation\n",
      "\n",
      "Features selection with RFE did not help and resulted in inconsistent results. The model settings are as below:\n",
      "\n",
      "MLPClassifier(activation='relu', alpha=0.0001, batch_size='auto', beta_1=0.9,\n",
      "       beta_2=0.999, early_stopping=False, epsilon=1e-08,\n",
      "       hidden_layer_sizes=5, learning_rate='constant',\n",
      "       learning_rate_init=0.001, max_iter=500, momentum=0.9,\n",
      "       n_iter_no_change=30, nesterovs_momentum=True, power_t=0.5,\n",
      "       random_state=10, shuffle=True, solver='adam', tol=0.0001,\n",
      "       validation_fraction=0.1, verbose=False, warm_start=False)\n",
      "\n",
      "---Task 4 Question 3b---\n",
      "Train accuracy: 0.7837323376528297\n",
      "Test accuracy: 0.7895635835681954\n",
      "\n",
      "---Task 4 Question 3c---\n",
      "381\n",
      "\n",
      "---Task 4 Question 3d---\n",
      "No overfitting as test accuracy is higher than train accuracy.\n",
      "\n",
      "---Task 4 Question 3e---\n",
      "Yes it converges\n"
     ]
    },
    {
     "data": {
      "image/png": "[encoded data removed]",
      "text/plain": [
       "<Figure size 432x288 with 1 Axes>"
      ]
     },
     "metadata": {
      "needs_background": "light"
     },
     "output_type": "display_data"
    }
   ],
   "source": [
    "X_RFE = dfNN.drop(['ID', 'CapitalLoss', 'CapitalGain', 'AtRisk', 'Marital-Status', 'Occupation', 'Relationship', 'CapitalAvg', 'NumWorkingHoursPerWeek', 'Sex', 'CountryOfOrigin'], axis=1)\n",
    "\n",
    "columns_to_transform = ['Age', 'NumYearsEducation', 'Weighting']\n",
    "# transform the columns with np.log\n",
    "for col in columns_to_transform:\n",
    "    X_RFE[col] = X_RFE[col].apply(lambda x: x+1)\n",
    "    X_RFE[col] = X_RFE[col].apply(np.log)\n",
    "    \n",
    "X_matRFE = X_RFE.as_matrix()\n",
    "X_train_RFENN, X_test_RFENN, y_train_RFENN, y_test_RFENN = train_test_split(X_matRFE, y, test_size=0.3, stratify=y, random_state=rs)\n",
    "\n",
    "mlpRFE = MLPClassifier(random_state=rs, alpha = 0.0001, hidden_layer_sizes=5, max_iter=500, n_iter_no_change=30)\n",
    "mlpRFE.fit(X_train_RFENN, y_train_RFENN)\n",
    "print(\"---Task 4 Question 3a HAVE TO EXPLAIN---\")\n",
    "print(\"Inputs are Age, WorkClass, Weighting, Education, NumYearsEducation\\n\")\n",
    "print(\"Features selection with RFE did not help and resulted in inconsistent results. The model settings are as below:\\n\")\n",
    "print(mlpRFE)\n",
    "\n",
    "print(\"\\n---Task 4 Question 3b---\")\n",
    "print(\"Train accuracy:\", mlpRFE.score(X_train_RFENN, y_train_RFENN))\n",
    "print(\"Test accuracy:\", mlpRFE.score(X_test_RFENN, y_test_RFENN))\n",
    "\n",
    "print(\"\\n---Task 4 Question 3c---\")\n",
    "print(mlpRFE.n_iter_)\n",
    "\n",
    "print(\"\\n---Task 4 Question 3d---\")\n",
    "print(\"No overfitting as test accuracy is higher than train accuracy.\")\n",
    "\n",
    "print(\"\\n---Task 4 Question 3e---\")\n",
    "print(\"Yes it converges\")\n",
    "plt.ylabel('cost')\n",
    "plt.xlabel('iterations')\n",
    "plt.title(\"Learning rate =\" + str(0.0001))\n",
    "plt.plot(mlpRFE.loss_curve_)\n",
    "plt.show()\n"
   ]
  },
  {
   "cell_type": "code",
   "execution_count": 37,
   "metadata": {},
   "outputs": [
    {
     "name": "stdout",
     "output_type": "stream",
     "text": [
      "\n",
      "---Task 4 Question 3f---\n",
      "\n",
      " RFE on GridSearchCV\n",
      "Train accuracy: 0.7877223808477927\n",
      "Test accuracy: 0.7920403108719788\n",
      "{'alpha': 0.0001, 'hidden_layer_sizes': 7, 'max_iter': 450}\n"
     ]
    },
    {
     "data": {
      "image/png": "[encoded data removed]",
      "text/plain": [
       "<Figure size 432x288 with 1 Axes>"
      ]
     },
     "metadata": {
      "needs_background": "light"
     },
     "output_type": "display_data"
    }
   ],
   "source": [
    "###### Task 4 Question 3F\n",
    "###### RFE With GridSearchCV COMPUTATIONAL EXPENSIVE MODEL\n",
    "\n",
    "params = params = {'hidden_layer_sizes': np.arange(3,11,2), 'alpha': [0.001, 0.0001, 0.00001], 'max_iter': np.arange(300,500,50)}\n",
    "\n",
    "mlpRFEGS = GridSearchCV(param_grid=params, estimator=mlpRFE)\n",
    "mlpRFEGS.fit(X_train_RFENN, y_train_RFENN)\n",
    "print(\"\\n---Task 4 Question 3f---\")\n",
    "print(\"\\n RFE on GridSearchCV\")\n",
    "print(\"Train accuracy:\", mlpRFEGS.score(X_train_RFENN, y_train_RFENN))\n",
    "print(\"Test accuracy:\", mlpRFEGS.score(X_test_RFENN, y_test_RFENN))\n",
    "print(mlpRFEGS.best_params_)\n",
    "\n",
    "plt.ylabel('cost')\n",
    "plt.xlabel('iterations')\n",
    "plt.plot(mlpRFEGS.best_estimator_.loss_curve_)\n",
    "plt.show()\n"
   ]
  },
  {
   "cell_type": "markdown",
   "metadata": {},
   "source": [
    "# GridSearchCV MLP with DT Inputs"
   ]
  },
  {
   "cell_type": "code",
   "execution_count": null,
   "metadata": {},
   "outputs": [],
   "source": [
    "X_mat = X_DT.as_matrix()\n",
    "X_train, X_test, y_train, y_test = train_test_split(X_mat, y, test_size=0.3, stratify=y, random_state=rs)\n",
    "\n",
    "params = {'hidden_layer_sizes': np.arange(3,11,2), 'alpha': [0.001, 0.0001, 0.00001], 'max_iter': np.arange(300,500,50), 'n_iter_no_change': np.arange(30, 50, 10)}\n",
    "mlpDTGS = GridSearchCV(param_grid=params, estimator=mlpDT)\n",
    "mlpDTGS.fit(X_train, y_train)\n",
    "\n",
    "print(\"\\n DT Features on GridSearchCV\")\n",
    "print(\"Train accuracy:\", mlpDTGS.score(X_train, y_train))\n",
    "print(\"Test accuracy:\", mlpDTGS.score(X_test, y_test))\n",
    "\n",
    "plt.ylabel('cost')\n",
    "plt.xlabel('iterations')\n",
    "plt.title(\"Learning rate =\" + str(0.001))\n",
    "plt.plot(mlpDTGS.best_estimator_.loss_curve_)\n",
    "plt.show()\n",
    "\n",
    "print(\"Best parameters of DT features on MLP: \", mlpDTGS.best_params_)\n"
   ]
  },
  {
   "cell_type": "markdown",
   "metadata": {},
   "source": [
    "# ROC For all 3 models"
   ]
  },
  {
   "cell_type": "code",
   "execution_count": 14,
   "metadata": {},
   "outputs": [
    {
     "ename": "NameError",
     "evalue": "name 'X_test_DTNN' is not defined",
     "output_type": "error",
     "traceback": [
      "\u001b[1;31m---------------------------------------------------------------------------\u001b[0m",
      "\u001b[1;31mNameError\u001b[0m                                 Traceback (most recent call last)",
      "\u001b[1;32m<ipython-input-14-593d41ff1b51>\u001b[0m in \u001b[0;36m<module>\u001b[1;34m\u001b[0m\n\u001b[0;32m     15\u001b[0m \u001b[1;33m\u001b[0m\u001b[0m\n\u001b[0;32m     16\u001b[0m \u001b[1;31m#NN\u001b[0m\u001b[1;33m\u001b[0m\u001b[1;33m\u001b[0m\u001b[1;33m\u001b[0m\u001b[0m\n\u001b[1;32m---> 17\u001b[1;33m \u001b[0mprobs\u001b[0m \u001b[1;33m=\u001b[0m \u001b[0mmlpGS\u001b[0m\u001b[1;33m.\u001b[0m\u001b[0mpredict_proba\u001b[0m\u001b[1;33m(\u001b[0m\u001b[0mX_test_DTNN\u001b[0m\u001b[1;33m)\u001b[0m\u001b[1;33m\u001b[0m\u001b[1;33m\u001b[0m\u001b[0m\n\u001b[0m\u001b[0;32m     18\u001b[0m \u001b[0mpreds\u001b[0m \u001b[1;33m=\u001b[0m \u001b[0mprobs\u001b[0m\u001b[1;33m[\u001b[0m\u001b[1;33m:\u001b[0m\u001b[1;33m,\u001b[0m\u001b[1;36m1\u001b[0m\u001b[1;33m]\u001b[0m\u001b[1;33m\u001b[0m\u001b[1;33m\u001b[0m\u001b[0m\n\u001b[0;32m     19\u001b[0m \u001b[0mfpr\u001b[0m\u001b[1;33m,\u001b[0m \u001b[0mtpr\u001b[0m\u001b[1;33m,\u001b[0m \u001b[0mthreshold\u001b[0m \u001b[1;33m=\u001b[0m \u001b[0mroc_curve\u001b[0m\u001b[1;33m(\u001b[0m\u001b[0my_test_DTNN\u001b[0m\u001b[1;33m,\u001b[0m \u001b[0mpreds\u001b[0m\u001b[1;33m)\u001b[0m\u001b[1;33m\u001b[0m\u001b[1;33m\u001b[0m\u001b[0m\n",
      "\u001b[1;31mNameError\u001b[0m: name 'X_test_DTNN' is not defined"
     ]
    },
    {
     "data": {
      "image/png": "[encoded data removed]",
      "text/plain": [
       "<Figure size 432x288 with 1 Axes>"
      ]
     },
     "metadata": {
      "needs_background": "light"
     },
     "output_type": "display_data"
    }
   ],
   "source": [
    "\n",
    "#LR\n",
    "probs = cv.predict_proba(X_test_log)\n",
    "preds = probs[:,1]\n",
    "fpr, tpr, threshold = roc_curve(y_test_log, preds)\n",
    "roc_auc = auc(fpr, tpr)\n",
    "#plt.plot(fpr, tpr, 'b', label = 'AUC logreg = %0.5f' % roc_auc)\n",
    "\n",
    "#DT\n",
    "probs = gsDT.predict_proba(X_test)\n",
    "preds = probs[:,1]\n",
    "fpr, tpr, threshold = roc_curve(y_test, preds)\n",
    "roc_auc = auc(fpr, tpr)\n",
    "plt.plot(fpr, tpr, 'r', label = 'AUC DT = %0.5f' % roc_auc)\n",
    "\n",
    "#NN\n",
    "probs = mlpGS.predict_proba(X_test_NN)\n",
    "preds = probs[:,1]\n",
    "fpr, tpr, threshold = roc_curve(y_test_DTNN, preds)\n",
    "roc_auc = auc(fpr, tpr)\n",
    "plt.plot(fpr, tpr, 'y', label = 'AUC NN = %0.5f' % roc_auc)\n",
    "\n",
    "\n",
    "plt.title('Receiver Operating Characteristic')\n",
    "plt.legend(loc = 'lower right')\n",
    "plt.plot([0, 1], [0, 1],'g--')\n",
    "plt.xlim([0, 1])\n",
    "plt.ylim([0, 1])\n",
    "plt.ylabel('True Positive Rate')\n",
    "plt.xlabel('False Positive Rate')\n",
    "plt.show()\n"
   ]
  },
  {
   "cell_type": "code",
   "execution_count": null,
   "metadata": {},
   "outputs": [],
   "source": []
  }
 ],
 "metadata": {
  "kernelspec": {
   "display_name": "Python 3",
   "language": "python",
   "name": "python3"
  },
  "language_info": {
   "codemirror_mode": {
    "name": "ipython",
    "version": 3
   },
   "file_extension": ".py",
   "mimetype": "text/x-python",
   "name": "python",
   "nbconvert_exporter": "python",
   "pygments_lexer": "ipython3",
   "version": "3.7.1"
  }
 },
 "nbformat": 4,
 "nbformat_minor": 2
}
